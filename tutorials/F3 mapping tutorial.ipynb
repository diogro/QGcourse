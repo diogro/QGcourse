{
 "cells": [
  {
   "cell_type": "code",
   "execution_count": 1,
   "metadata": {
    "collapsed": false
   },
   "outputs": [
    {
     "name": "stderr",
     "output_type": "stream",
     "text": [
      "\n",
      "Attaching package: ‘dplyr’\n",
      "\n",
      "The following objects are masked from ‘package:plyr’:\n",
      "\n",
      "    arrange, count, desc, failwith, id, mutate, rename, summarise,\n",
      "    summarize\n",
      "\n",
      "The following objects are masked from ‘package:stats’:\n",
      "\n",
      "    filter, lag\n",
      "\n",
      "The following objects are masked from ‘package:base’:\n",
      "\n",
      "    intersect, setdiff, setequal, union\n",
      "\n",
      "\n",
      "Attaching package: ‘car’\n",
      "\n",
      "The following object is masked from ‘package:dplyr’:\n",
      "\n",
      "    recode\n",
      "\n",
      "Loading required package: Matrix\n",
      "\n",
      "Attaching package: ‘Matrix’\n",
      "\n",
      "The following object is masked from ‘package:tidyr’:\n",
      "\n",
      "    expand\n",
      "\n",
      "\n",
      "Attaching package: ‘lmerTest’\n",
      "\n",
      "The following object is masked from ‘package:lme4’:\n",
      "\n",
      "    lmer\n",
      "\n",
      "The following object is masked from ‘package:stats’:\n",
      "\n",
      "    step\n",
      "\n",
      "\n",
      "Attaching package: ‘cowplot’\n",
      "\n",
      "The following object is masked from ‘package:ggplot2’:\n",
      "\n",
      "    ggsave\n",
      "\n"
     ]
    }
   ],
   "source": [
    "list_pkgs <- c(\"plyr\", \"dplyr\", \"tidyr\", \"readr\", \"car\", \"lme4\", \"lmerTest\", \"ggplot2\", \"cowplot\")\n",
    "new_pkgs <- list_pkgs[!(list_pkgs %in% installed.packages()[,\"Package\"])]\n",
    "if(length(new_pkgs) > 0){ install.packages(new_pkgs) }\n",
    "\n",
    "library(plyr)\n",
    "library(dplyr)\n",
    "library(tidyr)\n",
    "library(readr)\n",
    "library(car)\n",
    "library(lme4)\n",
    "library(lmerTest)\n",
    "library(ggplot2)\n",
    "library(cowplot)"
   ]
  },
  {
   "cell_type": "markdown",
   "metadata": {},
   "source": [
    "# Outline"
   ]
  },
  {
   "cell_type": "markdown",
   "metadata": {},
   "source": [
    "Move on to an F3 population and look at the importance of population stratification.\n",
    "\n",
    "An F3 is created by random mating of F2 individuals.  F2 individuals are genetically different from each other, so the F3 generation typically has family structure (sets of siblings sharing the same parents).  This phenomenon is generally called population stratification.  It is important because individuals with correlated phenotypes have correlated genotypes due to relatedness.  Treating them as independent leads to a form of pseudoreplication. \n",
    " \n",
    "We can start by running the null model for a set of simulated markers to see how the analysis performs with a true null hypothesis. Do we get the right number of false positives?  \n",
    "\n",
    "We can also try to run this model by randomizing either genotypes and phenotypes, while ignoring the structure of the population (so we ignore family).  Do we get the same significance results?  \n",
    "\n",
    "We can account for the influence of population stratification by including a random effect term that accounts for family.  This is basically the same as running the variance component model, so we are fitting the family variance component as a random effect while fitting the fixed effect of a locus. This same approach could be done in a more complex population by using an animal model to fit the family variance component. \n",
    "\n",
    "We can now go back and run the null model with simulated markers and look at how including the family covariance parameter changes the behaviour of the model.\n",
    " \n",
    "We can also use this mixed model to simultaneously estimate QTL effects and family variance components, which is a simple version of the structure of a model that is now widely used for mapping loci in natural populations (including for human association studies)\n",
    "\n",
    "We can also look at whether a locus is pleiotropic and affects multiple traits."
   ]
  },
  {
   "cell_type": "markdown",
   "metadata": {},
   "source": [
    "# Population stratification"
   ]
  },
  {
   "cell_type": "markdown",
   "metadata": {},
   "source": [
    "An F3 population has more recombination, which means you get higher resolution, but your model is more complex\n",
    "\n",
    "![](f3pop.png)"
   ]
  },
  {
   "cell_type": "markdown",
   "metadata": {},
   "source": [
    "# Reading and plotting data"
   ]
  },
  {
   "cell_type": "code",
   "execution_count": 2,
   "metadata": {
    "collapsed": false
   },
   "outputs": [
    {
     "data": {
      "text/html": [
       "<table>\n",
       "<thead><tr><th scope=col>ID</th><th scope=col>FAMILY</th><th scope=col>Sex</th><th scope=col>Sire</th><th scope=col>Dam</th><th scope=col>NURSE</th><th scope=col>LSB</th><th scope=col>LSW</th><th scope=col>Trait1</th><th scope=col>Trait2</th><th scope=col>⋯</th><th scope=col>G25</th><th scope=col>G26</th><th scope=col>G27</th><th scope=col>G28</th><th scope=col>G29</th><th scope=col>G30</th><th scope=col>G31</th><th scope=col>Trait2a</th><th scope=col>Trait3a</th><th scope=col>Trait3b</th></tr></thead>\n",
       "<tbody>\n",
       "\t<tr><td>492       </td><td>11        </td><td>F         </td><td> 82       </td><td>173       </td><td>173       </td><td> 8        </td><td> 8        </td><td>0.08732662</td><td>12.511166 </td><td>⋯         </td><td> 1        </td><td> 1        </td><td> 1        </td><td> 1        </td><td> 1        </td><td> 1        </td><td> 1        </td><td>12.004366 </td><td>25.99122  </td><td>26.66904  </td></tr>\n",
       "\t<tr><td>493       </td><td>11        </td><td>F         </td><td> 82       </td><td>173       </td><td>173       </td><td> 8        </td><td> 8        </td><td>0.09732662</td><td>10.522276 </td><td>⋯         </td><td> 1        </td><td> 1        </td><td> 1        </td><td> 1        </td><td> 1        </td><td> 1        </td><td> 1        </td><td>10.522276 </td><td>22.88304  </td><td>22.88304  </td></tr>\n",
       "\t<tr><td>494       </td><td>14        </td><td>F         </td><td> 85       </td><td>114       </td><td>173       </td><td> 7        </td><td> 8        </td><td>0.09371156</td><td>13.818946 </td><td>⋯         </td><td>-1        </td><td>-1        </td><td>-1        </td><td>-1        </td><td>-1        </td><td>-1        </td><td>-1        </td><td>13.312146 </td><td>26.25022  </td><td>27.42804  </td></tr>\n",
       "\t<tr><td>495       </td><td>14        </td><td>M         </td><td> 85       </td><td>114       </td><td>173       </td><td> 7        </td><td> 8        </td><td>0.15897373</td><td>12.384913 </td><td>⋯         </td><td> 0        </td><td> 0        </td><td> 0        </td><td> 0        </td><td> 0        </td><td> 1        </td><td> 1        </td><td>12.891713 </td><td>30.75996  </td><td>30.75996  </td></tr>\n",
       "\t<tr><td>496       </td><td>11        </td><td>F         </td><td> 82       </td><td>173       </td><td>173       </td><td> 8        </td><td> 8        </td><td>0.02587000</td><td>13.101166 </td><td>⋯         </td><td> 1        </td><td> 1        </td><td> 1        </td><td> 1        </td><td> 1        </td><td> 1        </td><td> 1        </td><td>13.607966 </td><td>31.49486  </td><td>30.31704  </td></tr>\n",
       "\t<tr><td>497       </td><td>14        </td><td>M         </td><td> 85       </td><td>114       </td><td>173       </td><td> 7        </td><td> 8        </td><td>0.12987749</td><td>13.744913 </td><td>⋯         </td><td>-1        </td><td>-1        </td><td>-1        </td><td>-1        </td><td>-1        </td><td>-1        </td><td>-1        </td><td>13.238113 </td><td>33.92932  </td><td>35.10714  </td></tr>\n",
       "\t<tr><td>498       </td><td>14        </td><td>M         </td><td> 85       </td><td>114       </td><td>173       </td><td> 7        </td><td> 8        </td><td>0.10240803</td><td>13.376023 </td><td>⋯         </td><td>-1        </td><td>-1        </td><td> 0        </td><td> 0        </td><td> 0        </td><td> 0        </td><td> 0        </td><td>12.869223 </td><td>33.27632  </td><td>34.45414  </td></tr>\n",
       "\t<tr><td>499       </td><td>11        </td><td>F         </td><td> 82       </td><td>173       </td><td>173       </td><td> 8        </td><td> 8        </td><td>0.09491825</td><td>13.953386 </td><td>⋯         </td><td>-1        </td><td>-1        </td><td>-1        </td><td>-1        </td><td>-1        </td><td> 0        </td><td> 0        </td><td>13.446586 </td><td>28.12822  </td><td>29.30604  </td></tr>\n",
       "\t<tr><td>500       </td><td>11        </td><td>F         </td><td> 82       </td><td>173       </td><td>114       </td><td> 8        </td><td> 7        </td><td>0.09938281</td><td>10.617069 </td><td>⋯         </td><td>-1        </td><td>-1        </td><td>-1        </td><td>-1        </td><td>-1        </td><td> 0        </td><td> 0        </td><td>10.110269 </td><td>28.59073  </td><td>29.76855  </td></tr>\n",
       "\t<tr><td>501       </td><td>11        </td><td>M         </td><td> 82       </td><td>173       </td><td>114       </td><td> 8        </td><td> 7        </td><td>0.09229518</td><td>10.383046 </td><td>⋯         </td><td> 0        </td><td> 0        </td><td> 0        </td><td> 0        </td><td> 0        </td><td> 0        </td><td> 0        </td><td>10.383046 </td><td>28.14965  </td><td>28.14965  </td></tr>\n",
       "\t<tr><td>502       </td><td>11        </td><td>M         </td><td> 82       </td><td>173       </td><td>114       </td><td> 8        </td><td> 7        </td><td>0.09314036</td><td>12.258596 </td><td>⋯         </td><td> 1        </td><td> 1        </td><td> 0        </td><td> 0        </td><td> 0        </td><td> 0        </td><td> 0        </td><td>11.751796 </td><td>27.56783  </td><td>26.39001  </td></tr>\n",
       "\t<tr><td>503       </td><td>14        </td><td>F         </td><td> 85       </td><td>114       </td><td>114       </td><td> 7        </td><td> 7        </td><td>0.12787820</td><td> 9.839289 </td><td>⋯         </td><td>-1        </td><td>-1        </td><td> 0        </td><td> 0        </td><td> 0        </td><td> 0        </td><td> 0        </td><td> 9.332489 </td><td>30.13873  </td><td>31.31655  </td></tr>\n",
       "\t<tr><td>504       </td><td>14        </td><td>M         </td><td> 85       </td><td>114       </td><td>114       </td><td> 7        </td><td> 7        </td><td>0.13314036</td><td>10.613046 </td><td>⋯         </td><td> 0        </td><td> 0        </td><td> 0        </td><td> 0        </td><td> 0        </td><td> 0        </td><td> 0        </td><td>11.119846 </td><td>25.71247  </td><td>25.71247  </td></tr>\n",
       "\t<tr><td>505       </td><td>14        </td><td>F         </td><td> 85       </td><td>114       </td><td>114       </td><td> 7        </td><td> 7        </td><td>0.10787820</td><td> 9.033736 </td><td>⋯         </td><td> 0        </td><td> 0        </td><td> 0        </td><td> 0        </td><td> 0        </td><td> 1        </td><td> 1        </td><td> 9.033736 </td><td>27.63955  </td><td>27.63955  </td></tr>\n",
       "\t<tr><td>506       </td><td>11        </td><td>F         </td><td> 82       </td><td>173       </td><td>114       </td><td> 8        </td><td> 7        </td><td>0.09787820</td><td>10.922629 </td><td>⋯         </td><td>-1        </td><td>-1        </td><td>-1        </td><td>-1        </td><td>-1        </td><td> 0        </td><td> 0        </td><td>10.415829 </td><td>28.71473  </td><td>29.89255  </td></tr>\n",
       "\t<tr><td>507       </td><td>24        </td><td>F         </td><td>122       </td><td>103       </td><td>103       </td><td> 7        </td><td> 7        </td><td>0.09787820</td><td>11.814849 </td><td>⋯         </td><td> 0        </td><td> 0        </td><td> 1        </td><td> 1        </td><td> 1        </td><td> 1        </td><td> 1        </td><td>11.814849 </td><td>26.83955  </td><td>28.01737  </td></tr>\n",
       "\t<tr><td>508       </td><td>12        </td><td>F         </td><td> 83       </td><td>102       </td><td>103       </td><td>11        </td><td> 7        </td><td>0.12787820</td><td>11.182619 </td><td>⋯         </td><td> 1        </td><td> 1        </td><td> 0        </td><td> 0        </td><td> 0        </td><td> 0        </td><td> 0        </td><td>11.182619 </td><td>29.10755  </td><td>28.60755  </td></tr>\n",
       "\t<tr><td>509       </td><td>12        </td><td>M         </td><td> 83       </td><td>102       </td><td>103       </td><td>11        </td><td> 7        </td><td>0.16193367</td><td>11.535266 </td><td>⋯         </td><td> 0        </td><td> 0        </td><td>-1        </td><td>-1        </td><td>-1        </td><td> 0        </td><td> 0        </td><td>11.028466 </td><td>29.07283  </td><td>29.07283  </td></tr>\n",
       "\t<tr><td>510       </td><td>24        </td><td>F         </td><td>122       </td><td>103       </td><td>103       </td><td> 7        </td><td> 7        </td><td>0.09028657</td><td>11.680399 </td><td>⋯         </td><td>-1        </td><td>-1        </td><td>-1        </td><td>-1        </td><td>-1        </td><td> 0        </td><td> 0        </td><td>11.173599 </td><td>28.63373  </td><td>29.81155  </td></tr>\n",
       "\t<tr><td>511       </td><td>24        </td><td>F         </td><td>122       </td><td>103       </td><td>103       </td><td> 7        </td><td> 7        </td><td>0.08787820</td><td>11.301509 </td><td>⋯         </td><td>-1        </td><td>-1        </td><td>-1        </td><td>-1        </td><td>-1        </td><td> 0        </td><td> 0        </td><td>10.794709 </td><td>24.25273  </td><td>25.43055  </td></tr>\n",
       "\t<tr><td>512       </td><td>12        </td><td>M         </td><td> 83       </td><td>102       </td><td>103       </td><td>11        </td><td> 7        </td><td>0.09193367</td><td> 8.949709 </td><td>⋯         </td><td> 1        </td><td> 1        </td><td> 0        </td><td> 0        </td><td> 0        </td><td> 0        </td><td> 0        </td><td> 8.949709 </td><td>22.97965  </td><td>22.47965  </td></tr>\n",
       "\t<tr><td>513       </td><td>24        </td><td>F         </td><td>122       </td><td>103       </td><td>103       </td><td> 7        </td><td> 7        </td><td>0.09787820</td><td>11.933739 </td><td>⋯         </td><td>-1        </td><td>-1        </td><td>-1        </td><td>-1        </td><td>-1        </td><td> 0        </td><td> 0        </td><td>11.426939 </td><td>26.24273  </td><td>27.42055  </td></tr>\n",
       "\t<tr><td>514       </td><td>12        </td><td>F         </td><td> 83       </td><td>102       </td><td>102       </td><td>11        </td><td>11        </td><td>0.09830618</td><td>10.444278 </td><td>⋯         </td><td> 0        </td><td> 0        </td><td> 0        </td><td> 0        </td><td> 0        </td><td> 0        </td><td> 0        </td><td>10.444278 </td><td>26.38775  </td><td>26.38775  </td></tr>\n",
       "\t<tr><td>515       </td><td>24        </td><td>F         </td><td>122       </td><td>103       </td><td>102       </td><td> 7        </td><td>11        </td><td>0.10210200</td><td>10.954277 </td><td>⋯         </td><td> 0        </td><td> 0        </td><td> 1        </td><td> 1        </td><td> 0        </td><td> 0        </td><td>-1        </td><td>11.461077 </td><td>29.17557  </td><td>29.17557  </td></tr>\n",
       "\t<tr><td>516       </td><td>24        </td><td>F         </td><td>122       </td><td>103       </td><td>102       </td><td> 7        </td><td>11        </td><td>0.06878986</td><td> 9.877611 </td><td>⋯         </td><td> 0        </td><td> 0        </td><td> 0        </td><td> 0        </td><td> 0        </td><td> 0        </td><td>-1        </td><td>10.384411 </td><td>26.29057  </td><td>26.29057  </td></tr>\n",
       "\t<tr><td>517       </td><td>24        </td><td>M         </td><td>122       </td><td>103       </td><td>102       </td><td> 7        </td><td>11        </td><td>0.10495578</td><td>10.288029 </td><td>⋯         </td><td> 0        </td><td> 0        </td><td> 1        </td><td> 1        </td><td> 1        </td><td> 1        </td><td> 1        </td><td>10.794829 </td><td>22.21567  </td><td>22.21567  </td></tr>\n",
       "\t<tr><td>518       </td><td>12        </td><td>F         </td><td> 83       </td><td>102       </td><td>102       </td><td>11        </td><td>11        </td><td>0.08878986</td><td>10.440944 </td><td>⋯         </td><td>-1        </td><td>-1        </td><td> 0        </td><td> 0        </td><td> 0        </td><td> 0        </td><td> 0        </td><td> 9.934144 </td><td>25.07293  </td><td>26.25075  </td></tr>\n",
       "\t<tr><td>519       </td><td>24        </td><td>M         </td><td>122       </td><td>103       </td><td>102       </td><td> 7        </td><td>11        </td><td>0.13374910</td><td>11.310252 </td><td>⋯         </td><td> 0        </td><td> 0        </td><td> 0        </td><td> 0        </td><td> 0        </td><td>-1        </td><td>-1        </td><td>11.310252 </td><td>27.19985  </td><td>27.19985  </td></tr>\n",
       "\t<tr><td>520       </td><td>12        </td><td>M         </td><td> 83       </td><td>102       </td><td>102       </td><td>11        </td><td>11        </td><td>0.09718341</td><td> 8.835807 </td><td>⋯         </td><td> 0        </td><td> 0        </td><td> 0        </td><td> 0        </td><td> 0        </td><td>-1        </td><td> 0        </td><td> 8.835807 </td><td>23.16585  </td><td>23.16585  </td></tr>\n",
       "\t<tr><td>521       </td><td>12        </td><td>F         </td><td> 83       </td><td>102       </td><td>102       </td><td>11        </td><td>11        </td><td>0.09878986</td><td>10.115389 </td><td>⋯         </td><td> 0        </td><td> 0        </td><td> 0        </td><td> 0        </td><td> 0        </td><td> 0        </td><td> 0        </td><td>10.115389 </td><td>25.90775  </td><td>25.90775  </td></tr>\n",
       "\t<tr><td>⋮</td><td>⋮</td><td>⋮</td><td>⋮</td><td>⋮</td><td>⋮</td><td>⋮</td><td>⋮</td><td>⋮</td><td>⋮</td><td>⋱</td><td>⋮</td><td>⋮</td><td>⋮</td><td>⋮</td><td>⋮</td><td>⋮</td><td>⋮</td><td>⋮</td><td>⋮</td><td>⋮</td></tr>\n",
       "\t<tr><td>3138      </td><td>192       </td><td>M         </td><td>1443      </td><td>1173      </td><td>1171      </td><td> 8        </td><td>11        </td><td>0.06987450</td><td>14.290840 </td><td>⋯         </td><td> 0        </td><td> 0        </td><td> 1        </td><td> 1        </td><td> 1        </td><td> 1        </td><td> 1        </td><td>14.290840 </td><td>38.01906  </td><td>38.01906  </td></tr>\n",
       "\t<tr><td>3139      </td><td>192       </td><td>F         </td><td>1443      </td><td>1173      </td><td>1171      </td><td> 8        </td><td>11        </td><td>0.10580035</td><td>14.343533 </td><td>⋯         </td><td>-1        </td><td> 0        </td><td> 1        </td><td> 1        </td><td> 1        </td><td> 0        </td><td> 0        </td><td>13.836733 </td><td>31.11215  </td><td>32.28997  </td></tr>\n",
       "\t<tr><td>3140      </td><td>192       </td><td>F         </td><td>1443      </td><td>1173      </td><td>1171      </td><td> 8        </td><td>11        </td><td>0.12580035</td><td>14.382533 </td><td>⋯         </td><td>-1        </td><td> 0        </td><td> 0        </td><td> 0        </td><td> 0        </td><td> 1        </td><td> 1        </td><td>14.382533 </td><td>33.01197  </td><td>33.01197  </td></tr>\n",
       "\t<tr><td>3141      </td><td>192       </td><td>F         </td><td>1443      </td><td>1173      </td><td>1173      </td><td> 8        </td><td> 8        </td><td>0.09592564</td><td>13.282172 </td><td>⋯         </td><td>-1        </td><td> 0        </td><td> 0        </td><td> 0        </td><td> 0        </td><td>-1        </td><td>-1        </td><td>12.775372 </td><td>19.37653  </td><td>20.55435  </td></tr>\n",
       "\t<tr><td>3142      </td><td>192       </td><td>M         </td><td>1443      </td><td>1173      </td><td>1173      </td><td> 8        </td><td> 8        </td><td>0.07719091</td><td>15.008172 </td><td>⋯         </td><td> 0        </td><td>-1        </td><td>-1        </td><td>-1        </td><td> 0        </td><td> 0        </td><td> 0        </td><td>15.008172 </td><td>37.08435  </td><td>37.08435  </td></tr>\n",
       "\t<tr><td>3143      </td><td>192       </td><td>F         </td><td>1443      </td><td>1173      </td><td>1173      </td><td> 8        </td><td> 8        </td><td>0.11592564</td><td>13.896172 </td><td>⋯         </td><td> 0        </td><td>-1        </td><td>-1        </td><td>-1        </td><td> 0        </td><td> 0        </td><td> 0        </td><td>13.896172 </td><td>23.68835  </td><td>23.68835  </td></tr>\n",
       "\t<tr><td>3144      </td><td>192       </td><td>M         </td><td>1443      </td><td>1173      </td><td>1173      </td><td> 8        </td><td> 8        </td><td>0.08592564</td><td>14.587172 </td><td>⋯         </td><td> 0        </td><td>-1        </td><td>-1        </td><td>-1        </td><td>-1        </td><td>-1        </td><td>-1        </td><td>14.587172 </td><td>31.95735  </td><td>31.95735  </td></tr>\n",
       "\t<tr><td>3145      </td><td>202       </td><td>M         </td><td>1441      </td><td>1171      </td><td>1173      </td><td>11        </td><td> 8        </td><td>0.13592564</td><td>14.418172 </td><td>⋯         </td><td> 0        </td><td> 0        </td><td> 0        </td><td>-1        </td><td>-1        </td><td> 0        </td><td> 0        </td><td>14.924972 </td><td>36.78817  </td><td>36.78817  </td></tr>\n",
       "\t<tr><td>3146      </td><td>202       </td><td>F         </td><td>1441      </td><td>1171      </td><td>1173      </td><td>11        </td><td> 8        </td><td>0.09875400</td><td>15.251172 </td><td>⋯         </td><td> 0        </td><td> 0        </td><td> 0        </td><td>-1        </td><td>-1        </td><td> 0        </td><td> 0        </td><td>15.757972 </td><td>34.83217  </td><td>34.83217  </td></tr>\n",
       "\t<tr><td>3147      </td><td>202       </td><td>M         </td><td>1441      </td><td>1171      </td><td>1173      </td><td>11        </td><td> 8        </td><td>0.10719091</td><td>15.030172 </td><td>⋯         </td><td> 0        </td><td> 0        </td><td> 0        </td><td>-1        </td><td>-1        </td><td> 0        </td><td> 0        </td><td>15.536972 </td><td>38.14017  </td><td>36.96235  </td></tr>\n",
       "\t<tr><td>3148      </td><td>202       </td><td>F         </td><td>1441      </td><td>1171      </td><td>1173      </td><td>11        </td><td> 8        </td><td>0.15592564</td><td>15.106172 </td><td>⋯         </td><td> 1        </td><td> 1        </td><td> 1        </td><td> 1        </td><td> 1        </td><td> 1        </td><td> 1        </td><td>15.612972 </td><td>28.53117  </td><td>27.35335  </td></tr>\n",
       "\t<tr><td>3265      </td><td>187       </td><td>M         </td><td>1169      </td><td>1437      </td><td>1437      </td><td> 4        </td><td> 4        </td><td>0.11463368</td><td>10.813225 </td><td>⋯         </td><td> 1        </td><td> 1        </td><td> 1        </td><td> 0        </td><td> 0        </td><td> 0        </td><td> 0        </td><td>10.813225 </td><td>24.53626  </td><td>24.03626  </td></tr>\n",
       "\t<tr><td>3266      </td><td>187       </td><td>F         </td><td>1169      </td><td>1437      </td><td>1437      </td><td> 4        </td><td> 4        </td><td>0.12919077</td><td>11.443919 </td><td>⋯         </td><td>-1        </td><td>-1        </td><td>-1        </td><td>-1        </td><td>-1        </td><td>-1        </td><td>-1        </td><td>10.937119 </td><td>25.50135  </td><td>26.67917  </td></tr>\n",
       "\t<tr><td>3267      </td><td>187       </td><td>F         </td><td>1169      </td><td>1437      </td><td>1437      </td><td> 4        </td><td> 4        </td><td>0.18972400</td><td>10.962919 </td><td>⋯         </td><td>-1        </td><td>-1        </td><td>-1        </td><td>-1        </td><td>-1        </td><td>-1        </td><td> 0        </td><td>10.456119 </td><td>21.20335  </td><td>22.38117  </td></tr>\n",
       "\t<tr><td>3268      </td><td>187       </td><td>F         </td><td>1169      </td><td>1437      </td><td>1437      </td><td> 4        </td><td> 4        </td><td>0.10919077</td><td> 9.872919 </td><td>⋯         </td><td>-1        </td><td>-1        </td><td>-1        </td><td>-1        </td><td> 0        </td><td>-1        </td><td>-1        </td><td> 9.366119 </td><td>18.87635  </td><td>20.05417  </td></tr>\n",
       "\t<tr><td>3305      </td><td>190       </td><td>M         </td><td>1297      </td><td>1438      </td><td>1438      </td><td> 9        </td><td> 8        </td><td>0.12773317</td><td>10.972172 </td><td>⋯         </td><td> 0        </td><td> 0        </td><td>-1        </td><td>-1        </td><td>-1        </td><td>-1        </td><td>-1        </td><td>10.972172 </td><td>33.71235  </td><td>33.71235  </td></tr>\n",
       "\t<tr><td>3306      </td><td>190       </td><td>F         </td><td>1297      </td><td>1438      </td><td>1438      </td><td> 9        </td><td> 8        </td><td>0.11229025</td><td>10.228865 </td><td>⋯         </td><td> 0        </td><td> 0        </td><td> 0        </td><td> 0        </td><td> 0        </td><td> 0        </td><td> 0        </td><td>10.735665 </td><td>32.84908  </td><td>31.67126  </td></tr>\n",
       "\t<tr><td>3307      </td><td>190       </td><td>M         </td><td>1297      </td><td>1438      </td><td>1438      </td><td> 9        </td><td> 8        </td><td>0.08773317</td><td> 9.642172 </td><td>⋯         </td><td> 0        </td><td> 0        </td><td> 0        </td><td> 0        </td><td> 0        </td><td> 0        </td><td> 0        </td><td> 9.642172 </td><td>23.83635  </td><td>23.83635  </td></tr>\n",
       "\t<tr><td>3308      </td><td>190       </td><td>F         </td><td>1297      </td><td>1438      </td><td>1438      </td><td> 9        </td><td> 8        </td><td>0.10229025</td><td> 9.859865 </td><td>⋯         </td><td>-1        </td><td>-1        </td><td>-1        </td><td>-1        </td><td>-1        </td><td>-1        </td><td>-1        </td><td> 9.353065 </td><td>25.37444  </td><td>26.55226  </td></tr>\n",
       "\t<tr><td>3309      </td><td>190       </td><td>F         </td><td>1297      </td><td>1438      </td><td>1438      </td><td> 9        </td><td> 8        </td><td>0.12229025</td><td>10.483865 </td><td>⋯         </td><td> 0        </td><td>-1        </td><td>-1        </td><td>-1        </td><td>-1        </td><td> 0        </td><td> 0        </td><td>10.483865 </td><td>31.15626  </td><td>31.15626  </td></tr>\n",
       "\t<tr><td>3311      </td><td>190       </td><td>M         </td><td>1297      </td><td>1438      </td><td>1438      </td><td> 9        </td><td> 8        </td><td>0.11773317</td><td> 9.742172 </td><td>⋯         </td><td> 1        </td><td> 1        </td><td> 0        </td><td> 0        </td><td> 0        </td><td> 0        </td><td> 0        </td><td>10.248972 </td><td>26.88117  </td><td>25.70335  </td></tr>\n",
       "\t<tr><td>3312      </td><td>190       </td><td>F         </td><td>1297      </td><td>1438      </td><td>1438      </td><td> 9        </td><td> 8        </td><td>0.10229025</td><td> 8.851865 </td><td>⋯         </td><td>-1        </td><td>-1        </td><td>-1        </td><td>-1        </td><td>-1        </td><td> 0        </td><td> 0        </td><td> 8.345065 </td><td>26.66644  </td><td>27.84426  </td></tr>\n",
       "\t<tr><td>3842      </td><td>188       </td><td>M         </td><td>1172      </td><td>1299      </td><td>1299      </td><td> 8        </td><td> 8        </td><td>0.11899844</td><td>10.197172 </td><td>⋯         </td><td>-1        </td><td>-1        </td><td>-1        </td><td>-1        </td><td>-1        </td><td>-1        </td><td> 0        </td><td>10.197172 </td><td>23.14235  </td><td>23.64235  </td></tr>\n",
       "\t<tr><td>3843      </td><td>188       </td><td>F         </td><td>1172      </td><td>1299      </td><td>1299      </td><td> 8        </td><td> 8        </td><td>0.08355552</td><td>10.212865 </td><td>⋯         </td><td> 0        </td><td> 0        </td><td> 0        </td><td> 0        </td><td> 0        </td><td> 0        </td><td> 0        </td><td>10.212865 </td><td>25.35926  </td><td>25.35926  </td></tr>\n",
       "\t<tr><td>3844      </td><td>188       </td><td>F         </td><td>1172      </td><td>1299      </td><td>1299      </td><td> 8        </td><td> 8        </td><td>0.05355552</td><td> 9.371865 </td><td>⋯         </td><td> 0        </td><td> 0        </td><td> 0        </td><td> 0        </td><td> 0        </td><td> 0        </td><td> 0        </td><td> 9.371865 </td><td>22.02126  </td><td>22.02126  </td></tr>\n",
       "\t<tr><td>3845      </td><td>188       </td><td>F         </td><td>1172      </td><td>1299      </td><td>1299      </td><td> 8        </td><td> 8        </td><td>0.14355552</td><td>10.696865 </td><td>⋯         </td><td> 0        </td><td> 1        </td><td> 1        </td><td> 1        </td><td> 1        </td><td> 1        </td><td> 1        </td><td>10.696865 </td><td>23.11626  </td><td>23.11626  </td></tr>\n",
       "\t<tr><td>3846      </td><td>188       </td><td>M         </td><td>1172      </td><td>1299      </td><td>1299      </td><td> 8        </td><td> 8        </td><td>0.08899844</td><td> 9.180172 </td><td>⋯         </td><td> 0        </td><td> 0        </td><td> 0        </td><td> 0        </td><td> 0        </td><td> 0        </td><td> 0        </td><td> 9.180172 </td><td>23.55035  </td><td>23.55035  </td></tr>\n",
       "\t<tr><td>3847      </td><td>188       </td><td>M         </td><td>1172      </td><td>1299      </td><td>1299      </td><td> 8        </td><td> 8        </td><td>0.09899844</td><td>10.396172 </td><td>⋯         </td><td> 0        </td><td> 0        </td><td> 0        </td><td> 0        </td><td> 0        </td><td> 0        </td><td> 0        </td><td>10.396172 </td><td>22.93835  </td><td>22.93835  </td></tr>\n",
       "\t<tr><td>3848      </td><td>188       </td><td>F         </td><td>1172      </td><td>1299      </td><td>1299      </td><td> 8        </td><td> 8        </td><td>0.12355552</td><td>10.214865 </td><td>⋯         </td><td> 0        </td><td> 0        </td><td> 0        </td><td> 0        </td><td> 0        </td><td> 0        </td><td> 0        </td><td>10.214865 </td><td>24.95126  </td><td>24.95126  </td></tr>\n",
       "\t<tr><td>3849      </td><td>188       </td><td>M         </td><td>1172      </td><td>1299      </td><td>1299      </td><td> 8        </td><td> 8        </td><td>0.08899844</td><td>10.963172 </td><td>⋯         </td><td> 0        </td><td> 0        </td><td> 0        </td><td> 0        </td><td> 0        </td><td>-1        </td><td> 0        </td><td>10.963172 </td><td>23.26835  </td><td>23.26835  </td></tr>\n",
       "</tbody>\n",
       "</table>\n"
      ],
      "text/latex": [
       "\\begin{tabular}{r|lllllllllllllllllllllllllllllllllllllllllllll}\n",
       " ID & FAMILY & Sex & Sire & Dam & NURSE & LSB & LSW & Trait1 & Trait2 & ⋯ & G25 & G26 & G27 & G28 & G29 & G30 & G31 & Trait2a & Trait3a & Trait3b\\\\\n",
       "\\hline\n",
       "\t 492        & 11         & F          &  82        & 173        & 173        &  8         &  8         & 0.08732662 & 12.511166  & ⋯          &  1         &  1         &  1         &  1         &  1         &  1         &  1         & 12.004366  & 25.99122   & 26.66904  \\\\\n",
       "\t 493        & 11         & F          &  82        & 173        & 173        &  8         &  8         & 0.09732662 & 10.522276  & ⋯          &  1         &  1         &  1         &  1         &  1         &  1         &  1         & 10.522276  & 22.88304   & 22.88304  \\\\\n",
       "\t 494        & 14         & F          &  85        & 114        & 173        &  7         &  8         & 0.09371156 & 13.818946  & ⋯          & -1         & -1         & -1         & -1         & -1         & -1         & -1         & 13.312146  & 26.25022   & 27.42804  \\\\\n",
       "\t 495        & 14         & M          &  85        & 114        & 173        &  7         &  8         & 0.15897373 & 12.384913  & ⋯          &  0         &  0         &  0         &  0         &  0         &  1         &  1         & 12.891713  & 30.75996   & 30.75996  \\\\\n",
       "\t 496        & 11         & F          &  82        & 173        & 173        &  8         &  8         & 0.02587000 & 13.101166  & ⋯          &  1         &  1         &  1         &  1         &  1         &  1         &  1         & 13.607966  & 31.49486   & 30.31704  \\\\\n",
       "\t 497        & 14         & M          &  85        & 114        & 173        &  7         &  8         & 0.12987749 & 13.744913  & ⋯          & -1         & -1         & -1         & -1         & -1         & -1         & -1         & 13.238113  & 33.92932   & 35.10714  \\\\\n",
       "\t 498        & 14         & M          &  85        & 114        & 173        &  7         &  8         & 0.10240803 & 13.376023  & ⋯          & -1         & -1         &  0         &  0         &  0         &  0         &  0         & 12.869223  & 33.27632   & 34.45414  \\\\\n",
       "\t 499        & 11         & F          &  82        & 173        & 173        &  8         &  8         & 0.09491825 & 13.953386  & ⋯          & -1         & -1         & -1         & -1         & -1         &  0         &  0         & 13.446586  & 28.12822   & 29.30604  \\\\\n",
       "\t 500        & 11         & F          &  82        & 173        & 114        &  8         &  7         & 0.09938281 & 10.617069  & ⋯          & -1         & -1         & -1         & -1         & -1         &  0         &  0         & 10.110269  & 28.59073   & 29.76855  \\\\\n",
       "\t 501        & 11         & M          &  82        & 173        & 114        &  8         &  7         & 0.09229518 & 10.383046  & ⋯          &  0         &  0         &  0         &  0         &  0         &  0         &  0         & 10.383046  & 28.14965   & 28.14965  \\\\\n",
       "\t 502        & 11         & M          &  82        & 173        & 114        &  8         &  7         & 0.09314036 & 12.258596  & ⋯          &  1         &  1         &  0         &  0         &  0         &  0         &  0         & 11.751796  & 27.56783   & 26.39001  \\\\\n",
       "\t 503        & 14         & F          &  85        & 114        & 114        &  7         &  7         & 0.12787820 &  9.839289  & ⋯          & -1         & -1         &  0         &  0         &  0         &  0         &  0         &  9.332489  & 30.13873   & 31.31655  \\\\\n",
       "\t 504        & 14         & M          &  85        & 114        & 114        &  7         &  7         & 0.13314036 & 10.613046  & ⋯          &  0         &  0         &  0         &  0         &  0         &  0         &  0         & 11.119846  & 25.71247   & 25.71247  \\\\\n",
       "\t 505        & 14         & F          &  85        & 114        & 114        &  7         &  7         & 0.10787820 &  9.033736  & ⋯          &  0         &  0         &  0         &  0         &  0         &  1         &  1         &  9.033736  & 27.63955   & 27.63955  \\\\\n",
       "\t 506        & 11         & F          &  82        & 173        & 114        &  8         &  7         & 0.09787820 & 10.922629  & ⋯          & -1         & -1         & -1         & -1         & -1         &  0         &  0         & 10.415829  & 28.71473   & 29.89255  \\\\\n",
       "\t 507        & 24         & F          & 122        & 103        & 103        &  7         &  7         & 0.09787820 & 11.814849  & ⋯          &  0         &  0         &  1         &  1         &  1         &  1         &  1         & 11.814849  & 26.83955   & 28.01737  \\\\\n",
       "\t 508        & 12         & F          &  83        & 102        & 103        & 11         &  7         & 0.12787820 & 11.182619  & ⋯          &  1         &  1         &  0         &  0         &  0         &  0         &  0         & 11.182619  & 29.10755   & 28.60755  \\\\\n",
       "\t 509        & 12         & M          &  83        & 102        & 103        & 11         &  7         & 0.16193367 & 11.535266  & ⋯          &  0         &  0         & -1         & -1         & -1         &  0         &  0         & 11.028466  & 29.07283   & 29.07283  \\\\\n",
       "\t 510        & 24         & F          & 122        & 103        & 103        &  7         &  7         & 0.09028657 & 11.680399  & ⋯          & -1         & -1         & -1         & -1         & -1         &  0         &  0         & 11.173599  & 28.63373   & 29.81155  \\\\\n",
       "\t 511        & 24         & F          & 122        & 103        & 103        &  7         &  7         & 0.08787820 & 11.301509  & ⋯          & -1         & -1         & -1         & -1         & -1         &  0         &  0         & 10.794709  & 24.25273   & 25.43055  \\\\\n",
       "\t 512        & 12         & M          &  83        & 102        & 103        & 11         &  7         & 0.09193367 &  8.949709  & ⋯          &  1         &  1         &  0         &  0         &  0         &  0         &  0         &  8.949709  & 22.97965   & 22.47965  \\\\\n",
       "\t 513        & 24         & F          & 122        & 103        & 103        &  7         &  7         & 0.09787820 & 11.933739  & ⋯          & -1         & -1         & -1         & -1         & -1         &  0         &  0         & 11.426939  & 26.24273   & 27.42055  \\\\\n",
       "\t 514        & 12         & F          &  83        & 102        & 102        & 11         & 11         & 0.09830618 & 10.444278  & ⋯          &  0         &  0         &  0         &  0         &  0         &  0         &  0         & 10.444278  & 26.38775   & 26.38775  \\\\\n",
       "\t 515        & 24         & F          & 122        & 103        & 102        &  7         & 11         & 0.10210200 & 10.954277  & ⋯          &  0         &  0         &  1         &  1         &  0         &  0         & -1         & 11.461077  & 29.17557   & 29.17557  \\\\\n",
       "\t 516        & 24         & F          & 122        & 103        & 102        &  7         & 11         & 0.06878986 &  9.877611  & ⋯          &  0         &  0         &  0         &  0         &  0         &  0         & -1         & 10.384411  & 26.29057   & 26.29057  \\\\\n",
       "\t 517        & 24         & M          & 122        & 103        & 102        &  7         & 11         & 0.10495578 & 10.288029  & ⋯          &  0         &  0         &  1         &  1         &  1         &  1         &  1         & 10.794829  & 22.21567   & 22.21567  \\\\\n",
       "\t 518        & 12         & F          &  83        & 102        & 102        & 11         & 11         & 0.08878986 & 10.440944  & ⋯          & -1         & -1         &  0         &  0         &  0         &  0         &  0         &  9.934144  & 25.07293   & 26.25075  \\\\\n",
       "\t 519        & 24         & M          & 122        & 103        & 102        &  7         & 11         & 0.13374910 & 11.310252  & ⋯          &  0         &  0         &  0         &  0         &  0         & -1         & -1         & 11.310252  & 27.19985   & 27.19985  \\\\\n",
       "\t 520        & 12         & M          &  83        & 102        & 102        & 11         & 11         & 0.09718341 &  8.835807  & ⋯          &  0         &  0         &  0         &  0         &  0         & -1         &  0         &  8.835807  & 23.16585   & 23.16585  \\\\\n",
       "\t 521        & 12         & F          &  83        & 102        & 102        & 11         & 11         & 0.09878986 & 10.115389  & ⋯          &  0         &  0         &  0         &  0         &  0         &  0         &  0         & 10.115389  & 25.90775   & 25.90775  \\\\\n",
       "\t ⋮ & ⋮ & ⋮ & ⋮ & ⋮ & ⋮ & ⋮ & ⋮ & ⋮ & ⋮ & ⋱ & ⋮ & ⋮ & ⋮ & ⋮ & ⋮ & ⋮ & ⋮ & ⋮ & ⋮ & ⋮\\\\\n",
       "\t 3138       & 192        & M          & 1443       & 1173       & 1171       &  8         & 11         & 0.06987450 & 14.290840  & ⋯          &  0         &  0         &  1         &  1         &  1         &  1         &  1         & 14.290840  & 38.01906   & 38.01906  \\\\\n",
       "\t 3139       & 192        & F          & 1443       & 1173       & 1171       &  8         & 11         & 0.10580035 & 14.343533  & ⋯          & -1         &  0         &  1         &  1         &  1         &  0         &  0         & 13.836733  & 31.11215   & 32.28997  \\\\\n",
       "\t 3140       & 192        & F          & 1443       & 1173       & 1171       &  8         & 11         & 0.12580035 & 14.382533  & ⋯          & -1         &  0         &  0         &  0         &  0         &  1         &  1         & 14.382533  & 33.01197   & 33.01197  \\\\\n",
       "\t 3141       & 192        & F          & 1443       & 1173       & 1173       &  8         &  8         & 0.09592564 & 13.282172  & ⋯          & -1         &  0         &  0         &  0         &  0         & -1         & -1         & 12.775372  & 19.37653   & 20.55435  \\\\\n",
       "\t 3142       & 192        & M          & 1443       & 1173       & 1173       &  8         &  8         & 0.07719091 & 15.008172  & ⋯          &  0         & -1         & -1         & -1         &  0         &  0         &  0         & 15.008172  & 37.08435   & 37.08435  \\\\\n",
       "\t 3143       & 192        & F          & 1443       & 1173       & 1173       &  8         &  8         & 0.11592564 & 13.896172  & ⋯          &  0         & -1         & -1         & -1         &  0         &  0         &  0         & 13.896172  & 23.68835   & 23.68835  \\\\\n",
       "\t 3144       & 192        & M          & 1443       & 1173       & 1173       &  8         &  8         & 0.08592564 & 14.587172  & ⋯          &  0         & -1         & -1         & -1         & -1         & -1         & -1         & 14.587172  & 31.95735   & 31.95735  \\\\\n",
       "\t 3145       & 202        & M          & 1441       & 1171       & 1173       & 11         &  8         & 0.13592564 & 14.418172  & ⋯          &  0         &  0         &  0         & -1         & -1         &  0         &  0         & 14.924972  & 36.78817   & 36.78817  \\\\\n",
       "\t 3146       & 202        & F          & 1441       & 1171       & 1173       & 11         &  8         & 0.09875400 & 15.251172  & ⋯          &  0         &  0         &  0         & -1         & -1         &  0         &  0         & 15.757972  & 34.83217   & 34.83217  \\\\\n",
       "\t 3147       & 202        & M          & 1441       & 1171       & 1173       & 11         &  8         & 0.10719091 & 15.030172  & ⋯          &  0         &  0         &  0         & -1         & -1         &  0         &  0         & 15.536972  & 38.14017   & 36.96235  \\\\\n",
       "\t 3148       & 202        & F          & 1441       & 1171       & 1173       & 11         &  8         & 0.15592564 & 15.106172  & ⋯          &  1         &  1         &  1         &  1         &  1         &  1         &  1         & 15.612972  & 28.53117   & 27.35335  \\\\\n",
       "\t 3265       & 187        & M          & 1169       & 1437       & 1437       &  4         &  4         & 0.11463368 & 10.813225  & ⋯          &  1         &  1         &  1         &  0         &  0         &  0         &  0         & 10.813225  & 24.53626   & 24.03626  \\\\\n",
       "\t 3266       & 187        & F          & 1169       & 1437       & 1437       &  4         &  4         & 0.12919077 & 11.443919  & ⋯          & -1         & -1         & -1         & -1         & -1         & -1         & -1         & 10.937119  & 25.50135   & 26.67917  \\\\\n",
       "\t 3267       & 187        & F          & 1169       & 1437       & 1437       &  4         &  4         & 0.18972400 & 10.962919  & ⋯          & -1         & -1         & -1         & -1         & -1         & -1         &  0         & 10.456119  & 21.20335   & 22.38117  \\\\\n",
       "\t 3268       & 187        & F          & 1169       & 1437       & 1437       &  4         &  4         & 0.10919077 &  9.872919  & ⋯          & -1         & -1         & -1         & -1         &  0         & -1         & -1         &  9.366119  & 18.87635   & 20.05417  \\\\\n",
       "\t 3305       & 190        & M          & 1297       & 1438       & 1438       &  9         &  8         & 0.12773317 & 10.972172  & ⋯          &  0         &  0         & -1         & -1         & -1         & -1         & -1         & 10.972172  & 33.71235   & 33.71235  \\\\\n",
       "\t 3306       & 190        & F          & 1297       & 1438       & 1438       &  9         &  8         & 0.11229025 & 10.228865  & ⋯          &  0         &  0         &  0         &  0         &  0         &  0         &  0         & 10.735665  & 32.84908   & 31.67126  \\\\\n",
       "\t 3307       & 190        & M          & 1297       & 1438       & 1438       &  9         &  8         & 0.08773317 &  9.642172  & ⋯          &  0         &  0         &  0         &  0         &  0         &  0         &  0         &  9.642172  & 23.83635   & 23.83635  \\\\\n",
       "\t 3308       & 190        & F          & 1297       & 1438       & 1438       &  9         &  8         & 0.10229025 &  9.859865  & ⋯          & -1         & -1         & -1         & -1         & -1         & -1         & -1         &  9.353065  & 25.37444   & 26.55226  \\\\\n",
       "\t 3309       & 190        & F          & 1297       & 1438       & 1438       &  9         &  8         & 0.12229025 & 10.483865  & ⋯          &  0         & -1         & -1         & -1         & -1         &  0         &  0         & 10.483865  & 31.15626   & 31.15626  \\\\\n",
       "\t 3311       & 190        & M          & 1297       & 1438       & 1438       &  9         &  8         & 0.11773317 &  9.742172  & ⋯          &  1         &  1         &  0         &  0         &  0         &  0         &  0         & 10.248972  & 26.88117   & 25.70335  \\\\\n",
       "\t 3312       & 190        & F          & 1297       & 1438       & 1438       &  9         &  8         & 0.10229025 &  8.851865  & ⋯          & -1         & -1         & -1         & -1         & -1         &  0         &  0         &  8.345065  & 26.66644   & 27.84426  \\\\\n",
       "\t 3842       & 188        & M          & 1172       & 1299       & 1299       &  8         &  8         & 0.11899844 & 10.197172  & ⋯          & -1         & -1         & -1         & -1         & -1         & -1         &  0         & 10.197172  & 23.14235   & 23.64235  \\\\\n",
       "\t 3843       & 188        & F          & 1172       & 1299       & 1299       &  8         &  8         & 0.08355552 & 10.212865  & ⋯          &  0         &  0         &  0         &  0         &  0         &  0         &  0         & 10.212865  & 25.35926   & 25.35926  \\\\\n",
       "\t 3844       & 188        & F          & 1172       & 1299       & 1299       &  8         &  8         & 0.05355552 &  9.371865  & ⋯          &  0         &  0         &  0         &  0         &  0         &  0         &  0         &  9.371865  & 22.02126   & 22.02126  \\\\\n",
       "\t 3845       & 188        & F          & 1172       & 1299       & 1299       &  8         &  8         & 0.14355552 & 10.696865  & ⋯          &  0         &  1         &  1         &  1         &  1         &  1         &  1         & 10.696865  & 23.11626   & 23.11626  \\\\\n",
       "\t 3846       & 188        & M          & 1172       & 1299       & 1299       &  8         &  8         & 0.08899844 &  9.180172  & ⋯          &  0         &  0         &  0         &  0         &  0         &  0         &  0         &  9.180172  & 23.55035   & 23.55035  \\\\\n",
       "\t 3847       & 188        & M          & 1172       & 1299       & 1299       &  8         &  8         & 0.09899844 & 10.396172  & ⋯          &  0         &  0         &  0         &  0         &  0         &  0         &  0         & 10.396172  & 22.93835   & 22.93835  \\\\\n",
       "\t 3848       & 188        & F          & 1172       & 1299       & 1299       &  8         &  8         & 0.12355552 & 10.214865  & ⋯          &  0         &  0         &  0         &  0         &  0         &  0         &  0         & 10.214865  & 24.95126   & 24.95126  \\\\\n",
       "\t 3849       & 188        & M          & 1172       & 1299       & 1299       &  8         &  8         & 0.08899844 & 10.963172  & ⋯          &  0         &  0         &  0         &  0         &  0         & -1         &  0         & 10.963172  & 23.26835   & 23.26835  \\\\\n",
       "\\end{tabular}\n"
      ],
      "text/plain": [
       "     ID   FAMILY Sex Sire Dam  NURSE LSB LSW Trait1     Trait2    ⋯ G25 G26 G27\n",
       "1    492  11     F    82  173  173    8   8  0.08732662 12.511166 ⋯  1   1   1 \n",
       "2    493  11     F    82  173  173    8   8  0.09732662 10.522276 ⋯  1   1   1 \n",
       "3    494  14     F    85  114  173    7   8  0.09371156 13.818946 ⋯ -1  -1  -1 \n",
       "4    495  14     M    85  114  173    7   8  0.15897373 12.384913 ⋯  0   0   0 \n",
       "5    496  11     F    82  173  173    8   8  0.02587000 13.101166 ⋯  1   1   1 \n",
       "6    497  14     M    85  114  173    7   8  0.12987749 13.744913 ⋯ -1  -1  -1 \n",
       "7    498  14     M    85  114  173    7   8  0.10240803 13.376023 ⋯ -1  -1   0 \n",
       "8    499  11     F    82  173  173    8   8  0.09491825 13.953386 ⋯ -1  -1  -1 \n",
       "9    500  11     F    82  173  114    8   7  0.09938281 10.617069 ⋯ -1  -1  -1 \n",
       "10   501  11     M    82  173  114    8   7  0.09229518 10.383046 ⋯  0   0   0 \n",
       "11   502  11     M    82  173  114    8   7  0.09314036 12.258596 ⋯  1   1   0 \n",
       "12   503  14     F    85  114  114    7   7  0.12787820  9.839289 ⋯ -1  -1   0 \n",
       "13   504  14     M    85  114  114    7   7  0.13314036 10.613046 ⋯  0   0   0 \n",
       "14   505  14     F    85  114  114    7   7  0.10787820  9.033736 ⋯  0   0   0 \n",
       "15   506  11     F    82  173  114    8   7  0.09787820 10.922629 ⋯ -1  -1  -1 \n",
       "16   507  24     F   122  103  103    7   7  0.09787820 11.814849 ⋯  0   0   1 \n",
       "17   508  12     F    83  102  103   11   7  0.12787820 11.182619 ⋯  1   1   0 \n",
       "18   509  12     M    83  102  103   11   7  0.16193367 11.535266 ⋯  0   0  -1 \n",
       "19   510  24     F   122  103  103    7   7  0.09028657 11.680399 ⋯ -1  -1  -1 \n",
       "20   511  24     F   122  103  103    7   7  0.08787820 11.301509 ⋯ -1  -1  -1 \n",
       "21   512  12     M    83  102  103   11   7  0.09193367  8.949709 ⋯  1   1   0 \n",
       "22   513  24     F   122  103  103    7   7  0.09787820 11.933739 ⋯ -1  -1  -1 \n",
       "23   514  12     F    83  102  102   11  11  0.09830618 10.444278 ⋯  0   0   0 \n",
       "24   515  24     F   122  103  102    7  11  0.10210200 10.954277 ⋯  0   0   1 \n",
       "25   516  24     F   122  103  102    7  11  0.06878986  9.877611 ⋯  0   0   0 \n",
       "26   517  24     M   122  103  102    7  11  0.10495578 10.288029 ⋯  0   0   1 \n",
       "27   518  12     F    83  102  102   11  11  0.08878986 10.440944 ⋯ -1  -1   0 \n",
       "28   519  24     M   122  103  102    7  11  0.13374910 11.310252 ⋯  0   0   0 \n",
       "29   520  12     M    83  102  102   11  11  0.09718341  8.835807 ⋯  0   0   0 \n",
       "30   521  12     F    83  102  102   11  11  0.09878986 10.115389 ⋯  0   0   0 \n",
       "⋮    ⋮    ⋮      ⋮   ⋮    ⋮    ⋮     ⋮   ⋮   ⋮          ⋮         ⋱ ⋮   ⋮   ⋮  \n",
       "1557 3138 192    M   1443 1173 1171   8  11  0.06987450 14.290840 ⋯  0   0   1 \n",
       "1558 3139 192    F   1443 1173 1171   8  11  0.10580035 14.343533 ⋯ -1   0   1 \n",
       "1559 3140 192    F   1443 1173 1171   8  11  0.12580035 14.382533 ⋯ -1   0   0 \n",
       "1560 3141 192    F   1443 1173 1173   8   8  0.09592564 13.282172 ⋯ -1   0   0 \n",
       "1561 3142 192    M   1443 1173 1173   8   8  0.07719091 15.008172 ⋯  0  -1  -1 \n",
       "1562 3143 192    F   1443 1173 1173   8   8  0.11592564 13.896172 ⋯  0  -1  -1 \n",
       "1563 3144 192    M   1443 1173 1173   8   8  0.08592564 14.587172 ⋯  0  -1  -1 \n",
       "1564 3145 202    M   1441 1171 1173  11   8  0.13592564 14.418172 ⋯  0   0   0 \n",
       "1565 3146 202    F   1441 1171 1173  11   8  0.09875400 15.251172 ⋯  0   0   0 \n",
       "1566 3147 202    M   1441 1171 1173  11   8  0.10719091 15.030172 ⋯  0   0   0 \n",
       "1567 3148 202    F   1441 1171 1173  11   8  0.15592564 15.106172 ⋯  1   1   1 \n",
       "1568 3265 187    M   1169 1437 1437   4   4  0.11463368 10.813225 ⋯  1   1   1 \n",
       "1569 3266 187    F   1169 1437 1437   4   4  0.12919077 11.443919 ⋯ -1  -1  -1 \n",
       "1570 3267 187    F   1169 1437 1437   4   4  0.18972400 10.962919 ⋯ -1  -1  -1 \n",
       "1571 3268 187    F   1169 1437 1437   4   4  0.10919077  9.872919 ⋯ -1  -1  -1 \n",
       "1572 3305 190    M   1297 1438 1438   9   8  0.12773317 10.972172 ⋯  0   0  -1 \n",
       "1573 3306 190    F   1297 1438 1438   9   8  0.11229025 10.228865 ⋯  0   0   0 \n",
       "1574 3307 190    M   1297 1438 1438   9   8  0.08773317  9.642172 ⋯  0   0   0 \n",
       "1575 3308 190    F   1297 1438 1438   9   8  0.10229025  9.859865 ⋯ -1  -1  -1 \n",
       "1576 3309 190    F   1297 1438 1438   9   8  0.12229025 10.483865 ⋯  0  -1  -1 \n",
       "1577 3311 190    M   1297 1438 1438   9   8  0.11773317  9.742172 ⋯  1   1   0 \n",
       "1578 3312 190    F   1297 1438 1438   9   8  0.10229025  8.851865 ⋯ -1  -1  -1 \n",
       "1579 3842 188    M   1172 1299 1299   8   8  0.11899844 10.197172 ⋯ -1  -1  -1 \n",
       "1580 3843 188    F   1172 1299 1299   8   8  0.08355552 10.212865 ⋯  0   0   0 \n",
       "1581 3844 188    F   1172 1299 1299   8   8  0.05355552  9.371865 ⋯  0   0   0 \n",
       "1582 3845 188    F   1172 1299 1299   8   8  0.14355552 10.696865 ⋯  0   1   1 \n",
       "1583 3846 188    M   1172 1299 1299   8   8  0.08899844  9.180172 ⋯  0   0   0 \n",
       "1584 3847 188    M   1172 1299 1299   8   8  0.09899844 10.396172 ⋯  0   0   0 \n",
       "1585 3848 188    F   1172 1299 1299   8   8  0.12355552 10.214865 ⋯  0   0   0 \n",
       "1586 3849 188    M   1172 1299 1299   8   8  0.08899844 10.963172 ⋯  0   0   0 \n",
       "     G28 G29 G30 G31 Trait2a   Trait3a  Trait3b \n",
       "1     1   1   1   1  12.004366 25.99122 26.66904\n",
       "2     1   1   1   1  10.522276 22.88304 22.88304\n",
       "3    -1  -1  -1  -1  13.312146 26.25022 27.42804\n",
       "4     0   0   1   1  12.891713 30.75996 30.75996\n",
       "5     1   1   1   1  13.607966 31.49486 30.31704\n",
       "6    -1  -1  -1  -1  13.238113 33.92932 35.10714\n",
       "7     0   0   0   0  12.869223 33.27632 34.45414\n",
       "8    -1  -1   0   0  13.446586 28.12822 29.30604\n",
       "9    -1  -1   0   0  10.110269 28.59073 29.76855\n",
       "10    0   0   0   0  10.383046 28.14965 28.14965\n",
       "11    0   0   0   0  11.751796 27.56783 26.39001\n",
       "12    0   0   0   0   9.332489 30.13873 31.31655\n",
       "13    0   0   0   0  11.119846 25.71247 25.71247\n",
       "14    0   0   1   1   9.033736 27.63955 27.63955\n",
       "15   -1  -1   0   0  10.415829 28.71473 29.89255\n",
       "16    1   1   1   1  11.814849 26.83955 28.01737\n",
       "17    0   0   0   0  11.182619 29.10755 28.60755\n",
       "18   -1  -1   0   0  11.028466 29.07283 29.07283\n",
       "19   -1  -1   0   0  11.173599 28.63373 29.81155\n",
       "20   -1  -1   0   0  10.794709 24.25273 25.43055\n",
       "21    0   0   0   0   8.949709 22.97965 22.47965\n",
       "22   -1  -1   0   0  11.426939 26.24273 27.42055\n",
       "23    0   0   0   0  10.444278 26.38775 26.38775\n",
       "24    1   0   0  -1  11.461077 29.17557 29.17557\n",
       "25    0   0   0  -1  10.384411 26.29057 26.29057\n",
       "26    1   1   1   1  10.794829 22.21567 22.21567\n",
       "27    0   0   0   0   9.934144 25.07293 26.25075\n",
       "28    0   0  -1  -1  11.310252 27.19985 27.19985\n",
       "29    0   0  -1   0   8.835807 23.16585 23.16585\n",
       "30    0   0   0   0  10.115389 25.90775 25.90775\n",
       "⋮    ⋮   ⋮   ⋮   ⋮   ⋮         ⋮        ⋮       \n",
       "1557  1   1   1   1  14.290840 38.01906 38.01906\n",
       "1558  1   1   0   0  13.836733 31.11215 32.28997\n",
       "1559  0   0   1   1  14.382533 33.01197 33.01197\n",
       "1560  0   0  -1  -1  12.775372 19.37653 20.55435\n",
       "1561 -1   0   0   0  15.008172 37.08435 37.08435\n",
       "1562 -1   0   0   0  13.896172 23.68835 23.68835\n",
       "1563 -1  -1  -1  -1  14.587172 31.95735 31.95735\n",
       "1564 -1  -1   0   0  14.924972 36.78817 36.78817\n",
       "1565 -1  -1   0   0  15.757972 34.83217 34.83217\n",
       "1566 -1  -1   0   0  15.536972 38.14017 36.96235\n",
       "1567  1   1   1   1  15.612972 28.53117 27.35335\n",
       "1568  0   0   0   0  10.813225 24.53626 24.03626\n",
       "1569 -1  -1  -1  -1  10.937119 25.50135 26.67917\n",
       "1570 -1  -1  -1   0  10.456119 21.20335 22.38117\n",
       "1571 -1   0  -1  -1   9.366119 18.87635 20.05417\n",
       "1572 -1  -1  -1  -1  10.972172 33.71235 33.71235\n",
       "1573  0   0   0   0  10.735665 32.84908 31.67126\n",
       "1574  0   0   0   0   9.642172 23.83635 23.83635\n",
       "1575 -1  -1  -1  -1   9.353065 25.37444 26.55226\n",
       "1576 -1  -1   0   0  10.483865 31.15626 31.15626\n",
       "1577  0   0   0   0  10.248972 26.88117 25.70335\n",
       "1578 -1  -1   0   0   8.345065 26.66644 27.84426\n",
       "1579 -1  -1  -1   0  10.197172 23.14235 23.64235\n",
       "1580  0   0   0   0  10.212865 25.35926 25.35926\n",
       "1581  0   0   0   0   9.371865 22.02126 22.02126\n",
       "1582  1   1   1   1  10.696865 23.11626 23.11626\n",
       "1583  0   0   0   0   9.180172 23.55035 23.55035\n",
       "1584  0   0   0   0  10.396172 22.93835 22.93835\n",
       "1585  0   0   0   0  10.214865 24.95126 24.95126\n",
       "1586  0   0  -1   0  10.963172 23.26835 23.26835"
      ]
     },
     "metadata": {},
     "output_type": "display_data"
    }
   ],
   "source": [
    "f3_data = read_csv(\"./F3 geno pheno with QTL effect.csv\")\n",
    "f3_data"
   ]
  },
  {
   "cell_type": "code",
   "execution_count": 3,
   "metadata": {
    "collapsed": false,
    "scrolled": true
   },
   "outputs": [
    {
     "name": "stderr",
     "output_type": "stream",
     "text": [
      "Warning message:\n",
      "“Removed 9 rows containing non-finite values (stat_ydensity).”Warning message:\n",
      "“Removed 9 rows containing missing values (geom_point).”"
     ]
    },
    {
     "data": {},
     "metadata": {},
     "output_type": "display_data"
    },
    {
     "data": {
      "image/png": "[encoded data removed]",
      "text/plain": [
       "plot without title"
      ]
     },
     "metadata": {},
     "output_type": "display_data"
    }
   ],
   "source": [
    "f3_data %>% \n",
    "    gather(trait, value, Trait2a:Trait3b) %>%\n",
    "    ggplot(aes(trait, value)) + geom_violin() + geom_jitter(width = 0.1, alpha = 0.1)"
   ]
  },
  {
   "cell_type": "markdown",
   "metadata": {},
   "source": [
    "# Mapping gone wrong"
   ]
  },
  {
   "cell_type": "markdown",
   "metadata": {},
   "source": [
    "Let's see what happens when we use the same model as in the F2 population, using the set of null markers with no effect. \n",
    "\n",
    "Remeber, we expect no more than 5% of significant markers in this set."
   ]
  },
  {
   "cell_type": "code",
   "execution_count": 4,
   "metadata": {
    "collapsed": false
   },
   "outputs": [],
   "source": [
    "simulated_genotypes = read_csv(\"sim genotypes.csv\")\n",
    "f3_data_null = inner_join(select(f3_data, ID:Trait3), simulated_genotypes, by = \"ID\")\n",
    "#f3_data_null"
   ]
  },
  {
   "cell_type": "code",
   "execution_count": 5,
   "metadata": {
    "collapsed": false
   },
   "outputs": [],
   "source": [
    "n_markers = 675\n",
    "null_marker_fits_trait3 = list()\n",
    "for(i in seq(n_markers)){\n",
    "    current_marker = paste0('G', i)\n",
    "    f3_data_null[[paste0(current_marker, '_D')]] = ifelse(f3_data_null[[current_marker]], 0, 1)\n",
    "    model_formula = paste0(\"Trait3 ~ Sex + LSB + LSW + \", current_marker, \"+\", current_marker, \"_D\")\n",
    "    null_marker_fits_trait3[[i]] = lm(as.formula(model_formula), data = f3_data_null)\n",
    "}"
   ]
  },
  {
   "cell_type": "code",
   "execution_count": 6,
   "metadata": {
    "collapsed": false
   },
   "outputs": [
    {
     "data": {
      "text/plain": [
       "\n",
       "    FALSE      TRUE \n",
       "0.8059259 0.1940741 "
      ]
     },
     "metadata": {},
     "output_type": "display_data"
    }
   ],
   "source": [
    "table(laply(null_marker_fits_trait3, function(x) summary(x)$coefficients[5, 'Pr(>|t|)']) < 0.05) / n_markers"
   ]
  },
  {
   "cell_type": "markdown",
   "metadata": {},
   "source": [
    "Almost four times what we should be getting!"
   ]
  },
  {
   "cell_type": "markdown",
   "metadata": {},
   "source": [
    "## Mixed models for stratification"
   ]
  },
  {
   "cell_type": "markdown",
   "metadata": {},
   "source": [
    "We can take stratification into account using a random effect for family structure. The lme4 and lmerTest packages allow us to fit the model and extract the relevant p-value. The only difference is the (1|FAMILY) term in the model formula."
   ]
  },
  {
   "cell_type": "code",
   "execution_count": 7,
   "metadata": {
    "collapsed": false
   },
   "outputs": [],
   "source": [
    "n_markers = 675\n",
    "null_marker_mixed_fits_trait3 = list()\n",
    "for(i in seq(n_markers)){\n",
    "    current_marker = paste0('G', i)\n",
    "    f3_data_null[[paste0(current_marker, '_D')]] = ifelse(f3_data_null[[current_marker]], 0, 1)  \n",
    "    model_formula = paste0(\"Trait3 ~ (1|FAMILY) + Sex + LSB + LSW + \", current_marker, \"+\", current_marker, \"_D\")\n",
    "    null_marker_mixed_fits_trait3[[i]] = lmer(as.formula(model_formula), data = f3_data_null)\n",
    "}"
   ]
  },
  {
   "cell_type": "code",
   "execution_count": 8,
   "metadata": {
    "collapsed": false
   },
   "outputs": [
    {
     "data": {
      "text/plain": [
       "\n",
       "     FALSE       TRUE \n",
       "0.94222222 0.05777778 "
      ]
     },
     "metadata": {},
     "output_type": "display_data"
    }
   ],
   "source": [
    "table(laply(null_marker_mixed_fits_trait3, function(x) summary(x)$coefficients[5, 'Pr(>|t|)']) < 0.05) / n_markers"
   ]
  },
  {
   "cell_type": "markdown",
   "metadata": {},
   "source": [
    "Much better!"
   ]
  },
  {
   "cell_type": "markdown",
   "metadata": {},
   "source": [
    "## Mapping pleiotropic QTLs"
   ]
  },
  {
   "cell_type": "markdown",
   "metadata": {},
   "source": [
    "For more than 1 trait we can fit the models separetly for each trait or run them in a single model."
   ]
  },
  {
   "cell_type": "code",
   "execution_count": 9,
   "metadata": {
    "collapsed": false
   },
   "outputs": [],
   "source": [
    "n_markers = 31\n",
    "interval = 6 # Play around with this value. \n",
    "fl_marker_fits_trait2a = list()\n",
    "for(i in seq(n_markers)) f3_data[[paste0(paste0('G', i), '_D')]] = ifelse(f3_data[[paste0('G', i)]], 0, 1)\n",
    "for(i in seq(n_markers)){\n",
    "    current_marker = paste0('G', i)\n",
    "    model_formula = paste0(\"Trait2a ~ (1|FAMILY) + Sex + LSB + LSW + \", current_marker, \"+\", current_marker, \"_D\")\n",
    "    if((i - interval) >= 1)\n",
    "        model_formula = paste0(model_formula, \"+ G\", paste0(i - interval), \"+ G\", paste0(i - interval), \"_D\")\n",
    "    if((i + interval) <= n_markers)\n",
    "        model_formula = paste0(model_formula, \"+ G\", paste0(i + interval), \"+ G\", paste0(i + interval), \"_D\")\n",
    "    fl_marker_fits_trait2a[[i]] = lmer(as.formula(model_formula), data = f3_data)\n",
    "}"
   ]
  },
  {
   "cell_type": "code",
   "execution_count": 10,
   "metadata": {
    "collapsed": false,
    "scrolled": false
   },
   "outputs": [
    {
     "data": {},
     "metadata": {},
     "output_type": "display_data"
    },
    {
     "data": {
      "image/png": "[encoded data removed]",
      "text/plain": [
       "plot without title"
      ]
     },
     "metadata": {},
     "output_type": "display_data"
    }
   ],
   "source": [
    "ldply(fl_marker_fits_trait2a, function(x) summary(x)$coefficients[5, 'Pr(>|t|)']) %>%\n",
    "    ggplot(aes(1:n_markers, -log10(V1))) + geom_line() + labs(x = \"marker\", y = \"LPR\") +\n",
    "    scale_x_continuous(breaks = seq(1, n_markers, by = 2))"
   ]
  },
  {
   "cell_type": "code",
   "execution_count": 11,
   "metadata": {
    "collapsed": false
   },
   "outputs": [],
   "source": [
    "n_markers = 31\n",
    "interval = 6 # Play around with this value. \n",
    "fl_marker_fits_trait3a = list()\n",
    "for(i in seq(n_markers)){\n",
    "    current_marker = paste0('G', i)\n",
    "    model_formula = paste0(\"Trait3a ~ (1|FAMILY) + Sex + LSB + LSW + \", current_marker, \"+\", current_marker, \"_D\")\n",
    "    if((i - interval) >= 1)\n",
    "        model_formula = paste0(model_formula, \"+ G\", paste0(i - interval), \"+ G\", paste0(i - interval), \"_D\")\n",
    "    if((i + interval) <= n_markers)\n",
    "        model_formula = paste0(model_formula, \"+ G\", paste0(i + interval), \"+ G\", paste0(i + interval), \"_D\")\n",
    "    fl_marker_fits_trait3a[[i]] = lmer(as.formula(model_formula), data = f3_data)\n",
    "}"
   ]
  },
  {
   "cell_type": "code",
   "execution_count": 12,
   "metadata": {
    "collapsed": false,
    "scrolled": false
   },
   "outputs": [
    {
     "data": {},
     "metadata": {},
     "output_type": "display_data"
    },
    {
     "data": {
      "image/png": "[encoded data removed]",
      "text/plain": [
       "plot without title"
      ]
     },
     "metadata": {},
     "output_type": "display_data"
    }
   ],
   "source": [
    "ldply(fl_marker_fits_trait3a, function(x) summary(x)$coefficients[5, 'Pr(>|t|)']) %>%\n",
    "    ggplot(aes(1:n_markers, -log10(V1))) + geom_line() + labs(x = \"marker\", y = \"LPR\") +\n",
    "    scale_x_continuous(breaks = seq(1, n_markers, by = 2))"
   ]
  },
  {
   "cell_type": "markdown",
   "metadata": {},
   "source": [
    "## Multiple traits at the same time\n",
    "\n",
    "It's also possible to run both traits at the same time and get an estimate for the significance of the marker for all traits. This is more complicated, so we'll do it for a single marker which we already know there is an effect.\n",
    "\n",
    "First we need to get the data in the apropriate \"narrow\" format, with a single column for the value of the traits and a column for the trait identity:"
   ]
  },
  {
   "cell_type": "code",
   "execution_count": 13,
   "metadata": {
    "collapsed": false
   },
   "outputs": [
    {
     "data": {
      "text/html": [
       "<table>\n",
       "<thead><tr><th scope=col>ID</th><th scope=col>FAMILY</th><th scope=col>Sex</th><th scope=col>Sire</th><th scope=col>Dam</th><th scope=col>NURSE</th><th scope=col>LSB</th><th scope=col>LSW</th><th scope=col>Trait1</th><th scope=col>Trait2</th><th scope=col>⋯</th><th scope=col>G24_D</th><th scope=col>G25_D</th><th scope=col>G26_D</th><th scope=col>G27_D</th><th scope=col>G28_D</th><th scope=col>G29_D</th><th scope=col>G30_D</th><th scope=col>G31_D</th><th scope=col>variable</th><th scope=col>value</th></tr></thead>\n",
       "<tbody>\n",
       "\t<tr><td>492       </td><td>11        </td><td>F         </td><td> 82       </td><td>173       </td><td>173       </td><td> 8        </td><td> 8        </td><td>0.08732662</td><td>12.511166 </td><td>⋯         </td><td>1         </td><td>0         </td><td>0         </td><td>0         </td><td>0         </td><td>0         </td><td>0         </td><td>0         </td><td>Trait2a   </td><td>12.004366 </td></tr>\n",
       "\t<tr><td>493       </td><td>11        </td><td>F         </td><td> 82       </td><td>173       </td><td>173       </td><td> 8        </td><td> 8        </td><td>0.09732662</td><td>10.522276 </td><td>⋯         </td><td>0         </td><td>0         </td><td>0         </td><td>0         </td><td>0         </td><td>0         </td><td>0         </td><td>0         </td><td>Trait2a   </td><td>10.522276 </td></tr>\n",
       "\t<tr><td>494       </td><td>14        </td><td>F         </td><td> 85       </td><td>114       </td><td>173       </td><td> 7        </td><td> 8        </td><td>0.09371156</td><td>13.818946 </td><td>⋯         </td><td>0         </td><td>0         </td><td>0         </td><td>0         </td><td>0         </td><td>0         </td><td>0         </td><td>0         </td><td>Trait2a   </td><td>13.312146 </td></tr>\n",
       "\t<tr><td>495       </td><td>14        </td><td>M         </td><td> 85       </td><td>114       </td><td>173       </td><td> 7        </td><td> 8        </td><td>0.15897373</td><td>12.384913 </td><td>⋯         </td><td>1         </td><td>1         </td><td>1         </td><td>1         </td><td>1         </td><td>1         </td><td>0         </td><td>0         </td><td>Trait2a   </td><td>12.891713 </td></tr>\n",
       "\t<tr><td>496       </td><td>11        </td><td>F         </td><td> 82       </td><td>173       </td><td>173       </td><td> 8        </td><td> 8        </td><td>0.02587000</td><td>13.101166 </td><td>⋯         </td><td>0         </td><td>0         </td><td>0         </td><td>0         </td><td>0         </td><td>0         </td><td>0         </td><td>0         </td><td>Trait2a   </td><td>13.607966 </td></tr>\n",
       "\t<tr><td>497       </td><td>14        </td><td>M         </td><td> 85       </td><td>114       </td><td>173       </td><td> 7        </td><td> 8        </td><td>0.12987749</td><td>13.744913 </td><td>⋯         </td><td>0         </td><td>0         </td><td>0         </td><td>0         </td><td>0         </td><td>0         </td><td>0         </td><td>0         </td><td>Trait2a   </td><td>13.238113 </td></tr>\n",
       "\t<tr><td>498       </td><td>14        </td><td>M         </td><td> 85       </td><td>114       </td><td>173       </td><td> 7        </td><td> 8        </td><td>0.10240803</td><td>13.376023 </td><td>⋯         </td><td>0         </td><td>0         </td><td>0         </td><td>1         </td><td>1         </td><td>1         </td><td>1         </td><td>1         </td><td>Trait2a   </td><td>12.869223 </td></tr>\n",
       "\t<tr><td>499       </td><td>11        </td><td>F         </td><td> 82       </td><td>173       </td><td>173       </td><td> 8        </td><td> 8        </td><td>0.09491825</td><td>13.953386 </td><td>⋯         </td><td>0         </td><td>0         </td><td>0         </td><td>0         </td><td>0         </td><td>0         </td><td>1         </td><td>1         </td><td>Trait2a   </td><td>13.446586 </td></tr>\n",
       "\t<tr><td>500       </td><td>11        </td><td>F         </td><td> 82       </td><td>173       </td><td>114       </td><td> 8        </td><td> 7        </td><td>0.09938281</td><td>10.617069 </td><td>⋯         </td><td>0         </td><td>0         </td><td>0         </td><td>0         </td><td>0         </td><td>0         </td><td>1         </td><td>1         </td><td>Trait2a   </td><td>10.110269 </td></tr>\n",
       "\t<tr><td>501       </td><td>11        </td><td>M         </td><td> 82       </td><td>173       </td><td>114       </td><td> 8        </td><td> 7        </td><td>0.09229518</td><td>10.383046 </td><td>⋯         </td><td>1         </td><td>1         </td><td>1         </td><td>1         </td><td>1         </td><td>1         </td><td>1         </td><td>1         </td><td>Trait2a   </td><td>10.383046 </td></tr>\n",
       "\t<tr><td>502       </td><td>11        </td><td>M         </td><td> 82       </td><td>173       </td><td>114       </td><td> 8        </td><td> 7        </td><td>0.09314036</td><td>12.258596 </td><td>⋯         </td><td>0         </td><td>0         </td><td>0         </td><td>1         </td><td>1         </td><td>1         </td><td>1         </td><td>1         </td><td>Trait2a   </td><td>11.751796 </td></tr>\n",
       "\t<tr><td>503       </td><td>14        </td><td>F         </td><td> 85       </td><td>114       </td><td>114       </td><td> 7        </td><td> 7        </td><td>0.12787820</td><td> 9.839289 </td><td>⋯         </td><td>0         </td><td>0         </td><td>0         </td><td>1         </td><td>1         </td><td>1         </td><td>1         </td><td>1         </td><td>Trait2a   </td><td> 9.332489 </td></tr>\n",
       "\t<tr><td>504       </td><td>14        </td><td>M         </td><td> 85       </td><td>114       </td><td>114       </td><td> 7        </td><td> 7        </td><td>0.13314036</td><td>10.613046 </td><td>⋯         </td><td>1         </td><td>1         </td><td>1         </td><td>1         </td><td>1         </td><td>1         </td><td>1         </td><td>1         </td><td>Trait2a   </td><td>11.119846 </td></tr>\n",
       "\t<tr><td>505       </td><td>14        </td><td>F         </td><td> 85       </td><td>114       </td><td>114       </td><td> 7        </td><td> 7        </td><td>0.10787820</td><td> 9.033736 </td><td>⋯         </td><td>1         </td><td>1         </td><td>1         </td><td>1         </td><td>1         </td><td>1         </td><td>0         </td><td>0         </td><td>Trait2a   </td><td> 9.033736 </td></tr>\n",
       "\t<tr><td>506       </td><td>11        </td><td>F         </td><td> 82       </td><td>173       </td><td>114       </td><td> 8        </td><td> 7        </td><td>0.09787820</td><td>10.922629 </td><td>⋯         </td><td>0         </td><td>0         </td><td>0         </td><td>0         </td><td>0         </td><td>0         </td><td>1         </td><td>1         </td><td>Trait2a   </td><td>10.415829 </td></tr>\n",
       "\t<tr><td>507       </td><td>24        </td><td>F         </td><td>122       </td><td>103       </td><td>103       </td><td> 7        </td><td> 7        </td><td>0.09787820</td><td>11.814849 </td><td>⋯         </td><td>1         </td><td>1         </td><td>1         </td><td>0         </td><td>0         </td><td>0         </td><td>0         </td><td>0         </td><td>Trait2a   </td><td>11.814849 </td></tr>\n",
       "\t<tr><td>508       </td><td>12        </td><td>F         </td><td> 83       </td><td>102       </td><td>103       </td><td>11        </td><td> 7        </td><td>0.12787820</td><td>11.182619 </td><td>⋯         </td><td>0         </td><td>0         </td><td>0         </td><td>1         </td><td>1         </td><td>1         </td><td>1         </td><td>1         </td><td>Trait2a   </td><td>11.182619 </td></tr>\n",
       "\t<tr><td>509       </td><td>12        </td><td>M         </td><td> 83       </td><td>102       </td><td>103       </td><td>11        </td><td> 7        </td><td>0.16193367</td><td>11.535266 </td><td>⋯         </td><td>1         </td><td>1         </td><td>1         </td><td>0         </td><td>0         </td><td>0         </td><td>1         </td><td>1         </td><td>Trait2a   </td><td>11.028466 </td></tr>\n",
       "\t<tr><td>510       </td><td>24        </td><td>F         </td><td>122       </td><td>103       </td><td>103       </td><td> 7        </td><td> 7        </td><td>0.09028657</td><td>11.680399 </td><td>⋯         </td><td>0         </td><td>0         </td><td>0         </td><td>0         </td><td>0         </td><td>0         </td><td>1         </td><td>1         </td><td>Trait2a   </td><td>11.173599 </td></tr>\n",
       "\t<tr><td>511       </td><td>24        </td><td>F         </td><td>122       </td><td>103       </td><td>103       </td><td> 7        </td><td> 7        </td><td>0.08787820</td><td>11.301509 </td><td>⋯         </td><td>0         </td><td>0         </td><td>0         </td><td>0         </td><td>0         </td><td>0         </td><td>1         </td><td>1         </td><td>Trait2a   </td><td>10.794709 </td></tr>\n",
       "\t<tr><td>512       </td><td>12        </td><td>M         </td><td> 83       </td><td>102       </td><td>103       </td><td>11        </td><td> 7        </td><td>0.09193367</td><td> 8.949709 </td><td>⋯         </td><td>0         </td><td>0         </td><td>0         </td><td>1         </td><td>1         </td><td>1         </td><td>1         </td><td>1         </td><td>Trait2a   </td><td> 8.949709 </td></tr>\n",
       "\t<tr><td>513       </td><td>24        </td><td>F         </td><td>122       </td><td>103       </td><td>103       </td><td> 7        </td><td> 7        </td><td>0.09787820</td><td>11.933739 </td><td>⋯         </td><td>1         </td><td>0         </td><td>0         </td><td>0         </td><td>0         </td><td>0         </td><td>1         </td><td>1         </td><td>Trait2a   </td><td>11.426939 </td></tr>\n",
       "\t<tr><td>514       </td><td>12        </td><td>F         </td><td> 83       </td><td>102       </td><td>102       </td><td>11        </td><td>11        </td><td>0.09830618</td><td>10.444278 </td><td>⋯         </td><td>1         </td><td>1         </td><td>1         </td><td>1         </td><td>1         </td><td>1         </td><td>1         </td><td>1         </td><td>Trait2a   </td><td>10.444278 </td></tr>\n",
       "\t<tr><td>515       </td><td>24        </td><td>F         </td><td>122       </td><td>103       </td><td>102       </td><td> 7        </td><td>11        </td><td>0.10210200</td><td>10.954277 </td><td>⋯         </td><td>1         </td><td>1         </td><td>1         </td><td>0         </td><td>0         </td><td>1         </td><td>1         </td><td>0         </td><td>Trait2a   </td><td>11.461077 </td></tr>\n",
       "\t<tr><td>516       </td><td>24        </td><td>F         </td><td>122       </td><td>103       </td><td>102       </td><td> 7        </td><td>11        </td><td>0.06878986</td><td> 9.877611 </td><td>⋯         </td><td>1         </td><td>1         </td><td>1         </td><td>1         </td><td>1         </td><td>1         </td><td>1         </td><td>0         </td><td>Trait2a   </td><td>10.384411 </td></tr>\n",
       "\t<tr><td>517       </td><td>24        </td><td>M         </td><td>122       </td><td>103       </td><td>102       </td><td> 7        </td><td>11        </td><td>0.10495578</td><td>10.288029 </td><td>⋯         </td><td>1         </td><td>1         </td><td>1         </td><td>0         </td><td>0         </td><td>0         </td><td>0         </td><td>0         </td><td>Trait2a   </td><td>10.794829 </td></tr>\n",
       "\t<tr><td>518       </td><td>12        </td><td>F         </td><td> 83       </td><td>102       </td><td>102       </td><td>11        </td><td>11        </td><td>0.08878986</td><td>10.440944 </td><td>⋯         </td><td>0         </td><td>0         </td><td>0         </td><td>1         </td><td>1         </td><td>1         </td><td>1         </td><td>1         </td><td>Trait2a   </td><td> 9.934144 </td></tr>\n",
       "\t<tr><td>519       </td><td>24        </td><td>M         </td><td>122       </td><td>103       </td><td>102       </td><td> 7        </td><td>11        </td><td>0.13374910</td><td>11.310252 </td><td>⋯         </td><td>1         </td><td>1         </td><td>1         </td><td>1         </td><td>1         </td><td>1         </td><td>0         </td><td>0         </td><td>Trait2a   </td><td>11.310252 </td></tr>\n",
       "\t<tr><td>520       </td><td>12        </td><td>M         </td><td> 83       </td><td>102       </td><td>102       </td><td>11        </td><td>11        </td><td>0.09718341</td><td> 8.835807 </td><td>⋯         </td><td>1         </td><td>1         </td><td>1         </td><td>1         </td><td>1         </td><td>1         </td><td>0         </td><td>1         </td><td>Trait2a   </td><td> 8.835807 </td></tr>\n",
       "\t<tr><td>521       </td><td>12        </td><td>F         </td><td> 83       </td><td>102       </td><td>102       </td><td>11        </td><td>11        </td><td>0.09878986</td><td>10.115389 </td><td>⋯         </td><td>1         </td><td>1         </td><td>1         </td><td>1         </td><td>1         </td><td>1         </td><td>1         </td><td>1         </td><td>Trait2a   </td><td>10.115389 </td></tr>\n",
       "\t<tr><td>⋮</td><td>⋮</td><td>⋮</td><td>⋮</td><td>⋮</td><td>⋮</td><td>⋮</td><td>⋮</td><td>⋮</td><td>⋮</td><td>⋱</td><td>⋮</td><td>⋮</td><td>⋮</td><td>⋮</td><td>⋮</td><td>⋮</td><td>⋮</td><td>⋮</td><td>⋮</td><td>⋮</td></tr>\n",
       "\t<tr><td>3138      </td><td>192       </td><td>M         </td><td>1443      </td><td>1173      </td><td>1171      </td><td> 8        </td><td>11        </td><td>0.06987450</td><td>14.290840 </td><td>⋯         </td><td>1         </td><td>1         </td><td>1         </td><td>0         </td><td>0         </td><td>0         </td><td>0         </td><td>0         </td><td>Trait3a   </td><td>38.01906  </td></tr>\n",
       "\t<tr><td>3139      </td><td>192       </td><td>F         </td><td>1443      </td><td>1173      </td><td>1171      </td><td> 8        </td><td>11        </td><td>0.10580035</td><td>14.343533 </td><td>⋯         </td><td>0         </td><td>0         </td><td>1         </td><td>0         </td><td>0         </td><td>0         </td><td>1         </td><td>1         </td><td>Trait3a   </td><td>31.11215  </td></tr>\n",
       "\t<tr><td>3140      </td><td>192       </td><td>F         </td><td>1443      </td><td>1173      </td><td>1171      </td><td> 8        </td><td>11        </td><td>0.12580035</td><td>14.382533 </td><td>⋯         </td><td>0         </td><td>0         </td><td>1         </td><td>1         </td><td>1         </td><td>1         </td><td>0         </td><td>0         </td><td>Trait3a   </td><td>33.01197  </td></tr>\n",
       "\t<tr><td>3141      </td><td>192       </td><td>F         </td><td>1443      </td><td>1173      </td><td>1173      </td><td> 8        </td><td> 8        </td><td>0.09592564</td><td>13.282172 </td><td>⋯         </td><td>0         </td><td>0         </td><td>1         </td><td>1         </td><td>1         </td><td>1         </td><td>0         </td><td>0         </td><td>Trait3a   </td><td>19.37653  </td></tr>\n",
       "\t<tr><td>3142      </td><td>192       </td><td>M         </td><td>1443      </td><td>1173      </td><td>1173      </td><td> 8        </td><td> 8        </td><td>0.07719091</td><td>15.008172 </td><td>⋯         </td><td>1         </td><td>1         </td><td>0         </td><td>0         </td><td>0         </td><td>1         </td><td>1         </td><td>1         </td><td>Trait3a   </td><td>37.08435  </td></tr>\n",
       "\t<tr><td>3143      </td><td>192       </td><td>F         </td><td>1443      </td><td>1173      </td><td>1173      </td><td> 8        </td><td> 8        </td><td>0.11592564</td><td>13.896172 </td><td>⋯         </td><td>1         </td><td>1         </td><td>0         </td><td>0         </td><td>0         </td><td>1         </td><td>1         </td><td>1         </td><td>Trait3a   </td><td>23.68835  </td></tr>\n",
       "\t<tr><td>3144      </td><td>192       </td><td>M         </td><td>1443      </td><td>1173      </td><td>1173      </td><td> 8        </td><td> 8        </td><td>0.08592564</td><td>14.587172 </td><td>⋯         </td><td>1         </td><td>1         </td><td>0         </td><td>0         </td><td>0         </td><td>0         </td><td>0         </td><td>0         </td><td>Trait3a   </td><td>31.95735  </td></tr>\n",
       "\t<tr><td>3145      </td><td>202       </td><td>M         </td><td>1441      </td><td>1171      </td><td>1173      </td><td>11        </td><td> 8        </td><td>0.13592564</td><td>14.418172 </td><td>⋯         </td><td>1         </td><td>1         </td><td>1         </td><td>1         </td><td>0         </td><td>0         </td><td>1         </td><td>1         </td><td>Trait3a   </td><td>36.78817  </td></tr>\n",
       "\t<tr><td>3146      </td><td>202       </td><td>F         </td><td>1441      </td><td>1171      </td><td>1173      </td><td>11        </td><td> 8        </td><td>0.09875400</td><td>15.251172 </td><td>⋯         </td><td>1         </td><td>1         </td><td>1         </td><td>1         </td><td>0         </td><td>0         </td><td>1         </td><td>1         </td><td>Trait3a   </td><td>34.83217  </td></tr>\n",
       "\t<tr><td>3147      </td><td>202       </td><td>M         </td><td>1441      </td><td>1171      </td><td>1173      </td><td>11        </td><td> 8        </td><td>0.10719091</td><td>15.030172 </td><td>⋯         </td><td>1         </td><td>1         </td><td>1         </td><td>1         </td><td>0         </td><td>0         </td><td>1         </td><td>1         </td><td>Trait3a   </td><td>38.14017  </td></tr>\n",
       "\t<tr><td>3148      </td><td>202       </td><td>F         </td><td>1441      </td><td>1171      </td><td>1173      </td><td>11        </td><td> 8        </td><td>0.15592564</td><td>15.106172 </td><td>⋯         </td><td>0         </td><td>0         </td><td>0         </td><td>0         </td><td>0         </td><td>0         </td><td>0         </td><td>0         </td><td>Trait3a   </td><td>28.53117  </td></tr>\n",
       "\t<tr><td>3265      </td><td>187       </td><td>M         </td><td>1169      </td><td>1437      </td><td>1437      </td><td> 4        </td><td> 4        </td><td>0.11463368</td><td>10.813225 </td><td>⋯         </td><td>0         </td><td>0         </td><td>0         </td><td>0         </td><td>1         </td><td>1         </td><td>1         </td><td>1         </td><td>Trait3a   </td><td>24.53626  </td></tr>\n",
       "\t<tr><td>3266      </td><td>187       </td><td>F         </td><td>1169      </td><td>1437      </td><td>1437      </td><td> 4        </td><td> 4        </td><td>0.12919077</td><td>11.443919 </td><td>⋯         </td><td>0         </td><td>0         </td><td>0         </td><td>0         </td><td>0         </td><td>0         </td><td>0         </td><td>0         </td><td>Trait3a   </td><td>25.50135  </td></tr>\n",
       "\t<tr><td>3267      </td><td>187       </td><td>F         </td><td>1169      </td><td>1437      </td><td>1437      </td><td> 4        </td><td> 4        </td><td>0.18972400</td><td>10.962919 </td><td>⋯         </td><td>0         </td><td>0         </td><td>0         </td><td>0         </td><td>0         </td><td>0         </td><td>0         </td><td>1         </td><td>Trait3a   </td><td>21.20335  </td></tr>\n",
       "\t<tr><td>3268      </td><td>187       </td><td>F         </td><td>1169      </td><td>1437      </td><td>1437      </td><td> 4        </td><td> 4        </td><td>0.10919077</td><td> 9.872919 </td><td>⋯         </td><td>0         </td><td>0         </td><td>0         </td><td>0         </td><td>0         </td><td>1         </td><td>0         </td><td>0         </td><td>Trait3a   </td><td>18.87635  </td></tr>\n",
       "\t<tr><td>3305      </td><td>190       </td><td>M         </td><td>1297      </td><td>1438      </td><td>1438      </td><td> 9        </td><td> 8        </td><td>0.12773317</td><td>10.972172 </td><td>⋯         </td><td>1         </td><td>1         </td><td>1         </td><td>0         </td><td>0         </td><td>0         </td><td>0         </td><td>0         </td><td>Trait3a   </td><td>33.71235  </td></tr>\n",
       "\t<tr><td>3306      </td><td>190       </td><td>F         </td><td>1297      </td><td>1438      </td><td>1438      </td><td> 9        </td><td> 8        </td><td>0.11229025</td><td>10.228865 </td><td>⋯         </td><td>1         </td><td>1         </td><td>1         </td><td>1         </td><td>1         </td><td>1         </td><td>1         </td><td>1         </td><td>Trait3a   </td><td>32.84908  </td></tr>\n",
       "\t<tr><td>3307      </td><td>190       </td><td>M         </td><td>1297      </td><td>1438      </td><td>1438      </td><td> 9        </td><td> 8        </td><td>0.08773317</td><td> 9.642172 </td><td>⋯         </td><td>1         </td><td>1         </td><td>1         </td><td>1         </td><td>1         </td><td>1         </td><td>1         </td><td>1         </td><td>Trait3a   </td><td>23.83635  </td></tr>\n",
       "\t<tr><td>3308      </td><td>190       </td><td>F         </td><td>1297      </td><td>1438      </td><td>1438      </td><td> 9        </td><td> 8        </td><td>0.10229025</td><td> 9.859865 </td><td>⋯         </td><td>0         </td><td>0         </td><td>0         </td><td>0         </td><td>0         </td><td>0         </td><td>0         </td><td>0         </td><td>Trait3a   </td><td>25.37444  </td></tr>\n",
       "\t<tr><td>3309      </td><td>190       </td><td>F         </td><td>1297      </td><td>1438      </td><td>1438      </td><td> 9        </td><td> 8        </td><td>0.12229025</td><td>10.483865 </td><td>⋯         </td><td>1         </td><td>1         </td><td>0         </td><td>0         </td><td>0         </td><td>0         </td><td>1         </td><td>1         </td><td>Trait3a   </td><td>31.15626  </td></tr>\n",
       "\t<tr><td>3311      </td><td>190       </td><td>M         </td><td>1297      </td><td>1438      </td><td>1438      </td><td> 9        </td><td> 8        </td><td>0.11773317</td><td> 9.742172 </td><td>⋯         </td><td>0         </td><td>0         </td><td>0         </td><td>1         </td><td>1         </td><td>1         </td><td>1         </td><td>1         </td><td>Trait3a   </td><td>26.88117  </td></tr>\n",
       "\t<tr><td>3312      </td><td>190       </td><td>F         </td><td>1297      </td><td>1438      </td><td>1438      </td><td> 9        </td><td> 8        </td><td>0.10229025</td><td> 8.851865 </td><td>⋯         </td><td>0         </td><td>0         </td><td>0         </td><td>0         </td><td>0         </td><td>0         </td><td>1         </td><td>1         </td><td>Trait3a   </td><td>26.66644  </td></tr>\n",
       "\t<tr><td>3842      </td><td>188       </td><td>M         </td><td>1172      </td><td>1299      </td><td>1299      </td><td> 8        </td><td> 8        </td><td>0.11899844</td><td>10.197172 </td><td>⋯         </td><td>0         </td><td>0         </td><td>0         </td><td>0         </td><td>0         </td><td>0         </td><td>0         </td><td>1         </td><td>Trait3a   </td><td>23.14235  </td></tr>\n",
       "\t<tr><td>3843      </td><td>188       </td><td>F         </td><td>1172      </td><td>1299      </td><td>1299      </td><td> 8        </td><td> 8        </td><td>0.08355552</td><td>10.212865 </td><td>⋯         </td><td>1         </td><td>1         </td><td>1         </td><td>1         </td><td>1         </td><td>1         </td><td>1         </td><td>1         </td><td>Trait3a   </td><td>25.35926  </td></tr>\n",
       "\t<tr><td>3844      </td><td>188       </td><td>F         </td><td>1172      </td><td>1299      </td><td>1299      </td><td> 8        </td><td> 8        </td><td>0.05355552</td><td> 9.371865 </td><td>⋯         </td><td>1         </td><td>1         </td><td>1         </td><td>1         </td><td>1         </td><td>1         </td><td>1         </td><td>1         </td><td>Trait3a   </td><td>22.02126  </td></tr>\n",
       "\t<tr><td>3845      </td><td>188       </td><td>F         </td><td>1172      </td><td>1299      </td><td>1299      </td><td> 8        </td><td> 8        </td><td>0.14355552</td><td>10.696865 </td><td>⋯         </td><td>1         </td><td>1         </td><td>0         </td><td>0         </td><td>0         </td><td>0         </td><td>0         </td><td>0         </td><td>Trait3a   </td><td>23.11626  </td></tr>\n",
       "\t<tr><td>3846      </td><td>188       </td><td>M         </td><td>1172      </td><td>1299      </td><td>1299      </td><td> 8        </td><td> 8        </td><td>0.08899844</td><td> 9.180172 </td><td>⋯         </td><td>1         </td><td>1         </td><td>1         </td><td>1         </td><td>1         </td><td>1         </td><td>1         </td><td>1         </td><td>Trait3a   </td><td>23.55035  </td></tr>\n",
       "\t<tr><td>3847      </td><td>188       </td><td>M         </td><td>1172      </td><td>1299      </td><td>1299      </td><td> 8        </td><td> 8        </td><td>0.09899844</td><td>10.396172 </td><td>⋯         </td><td>1         </td><td>1         </td><td>1         </td><td>1         </td><td>1         </td><td>1         </td><td>1         </td><td>1         </td><td>Trait3a   </td><td>22.93835  </td></tr>\n",
       "\t<tr><td>3848      </td><td>188       </td><td>F         </td><td>1172      </td><td>1299      </td><td>1299      </td><td> 8        </td><td> 8        </td><td>0.12355552</td><td>10.214865 </td><td>⋯         </td><td>1         </td><td>1         </td><td>1         </td><td>1         </td><td>1         </td><td>1         </td><td>1         </td><td>1         </td><td>Trait3a   </td><td>24.95126  </td></tr>\n",
       "\t<tr><td>3849      </td><td>188       </td><td>M         </td><td>1172      </td><td>1299      </td><td>1299      </td><td> 8        </td><td> 8        </td><td>0.08899844</td><td>10.963172 </td><td>⋯         </td><td>1         </td><td>1         </td><td>1         </td><td>1         </td><td>1         </td><td>1         </td><td>0         </td><td>1         </td><td>Trait3a   </td><td>23.26835  </td></tr>\n",
       "</tbody>\n",
       "</table>\n"
      ],
      "text/latex": [
       "\\begin{tabular}{r|llllllllllllllllllllllllllllllllllllllllllllllllllllllllllllllllllllllllllll}\n",
       " ID & FAMILY & Sex & Sire & Dam & NURSE & LSB & LSW & Trait1 & Trait2 & ⋯ & G24\\_D & G25\\_D & G26\\_D & G27\\_D & G28\\_D & G29\\_D & G30\\_D & G31\\_D & variable & value\\\\\n",
       "\\hline\n",
       "\t 492        & 11         & F          &  82        & 173        & 173        &  8         &  8         & 0.08732662 & 12.511166  & ⋯          & 1          & 0          & 0          & 0          & 0          & 0          & 0          & 0          & Trait2a    & 12.004366 \\\\\n",
       "\t 493        & 11         & F          &  82        & 173        & 173        &  8         &  8         & 0.09732662 & 10.522276  & ⋯          & 0          & 0          & 0          & 0          & 0          & 0          & 0          & 0          & Trait2a    & 10.522276 \\\\\n",
       "\t 494        & 14         & F          &  85        & 114        & 173        &  7         &  8         & 0.09371156 & 13.818946  & ⋯          & 0          & 0          & 0          & 0          & 0          & 0          & 0          & 0          & Trait2a    & 13.312146 \\\\\n",
       "\t 495        & 14         & M          &  85        & 114        & 173        &  7         &  8         & 0.15897373 & 12.384913  & ⋯          & 1          & 1          & 1          & 1          & 1          & 1          & 0          & 0          & Trait2a    & 12.891713 \\\\\n",
       "\t 496        & 11         & F          &  82        & 173        & 173        &  8         &  8         & 0.02587000 & 13.101166  & ⋯          & 0          & 0          & 0          & 0          & 0          & 0          & 0          & 0          & Trait2a    & 13.607966 \\\\\n",
       "\t 497        & 14         & M          &  85        & 114        & 173        &  7         &  8         & 0.12987749 & 13.744913  & ⋯          & 0          & 0          & 0          & 0          & 0          & 0          & 0          & 0          & Trait2a    & 13.238113 \\\\\n",
       "\t 498        & 14         & M          &  85        & 114        & 173        &  7         &  8         & 0.10240803 & 13.376023  & ⋯          & 0          & 0          & 0          & 1          & 1          & 1          & 1          & 1          & Trait2a    & 12.869223 \\\\\n",
       "\t 499        & 11         & F          &  82        & 173        & 173        &  8         &  8         & 0.09491825 & 13.953386  & ⋯          & 0          & 0          & 0          & 0          & 0          & 0          & 1          & 1          & Trait2a    & 13.446586 \\\\\n",
       "\t 500        & 11         & F          &  82        & 173        & 114        &  8         &  7         & 0.09938281 & 10.617069  & ⋯          & 0          & 0          & 0          & 0          & 0          & 0          & 1          & 1          & Trait2a    & 10.110269 \\\\\n",
       "\t 501        & 11         & M          &  82        & 173        & 114        &  8         &  7         & 0.09229518 & 10.383046  & ⋯          & 1          & 1          & 1          & 1          & 1          & 1          & 1          & 1          & Trait2a    & 10.383046 \\\\\n",
       "\t 502        & 11         & M          &  82        & 173        & 114        &  8         &  7         & 0.09314036 & 12.258596  & ⋯          & 0          & 0          & 0          & 1          & 1          & 1          & 1          & 1          & Trait2a    & 11.751796 \\\\\n",
       "\t 503        & 14         & F          &  85        & 114        & 114        &  7         &  7         & 0.12787820 &  9.839289  & ⋯          & 0          & 0          & 0          & 1          & 1          & 1          & 1          & 1          & Trait2a    &  9.332489 \\\\\n",
       "\t 504        & 14         & M          &  85        & 114        & 114        &  7         &  7         & 0.13314036 & 10.613046  & ⋯          & 1          & 1          & 1          & 1          & 1          & 1          & 1          & 1          & Trait2a    & 11.119846 \\\\\n",
       "\t 505        & 14         & F          &  85        & 114        & 114        &  7         &  7         & 0.10787820 &  9.033736  & ⋯          & 1          & 1          & 1          & 1          & 1          & 1          & 0          & 0          & Trait2a    &  9.033736 \\\\\n",
       "\t 506        & 11         & F          &  82        & 173        & 114        &  8         &  7         & 0.09787820 & 10.922629  & ⋯          & 0          & 0          & 0          & 0          & 0          & 0          & 1          & 1          & Trait2a    & 10.415829 \\\\\n",
       "\t 507        & 24         & F          & 122        & 103        & 103        &  7         &  7         & 0.09787820 & 11.814849  & ⋯          & 1          & 1          & 1          & 0          & 0          & 0          & 0          & 0          & Trait2a    & 11.814849 \\\\\n",
       "\t 508        & 12         & F          &  83        & 102        & 103        & 11         &  7         & 0.12787820 & 11.182619  & ⋯          & 0          & 0          & 0          & 1          & 1          & 1          & 1          & 1          & Trait2a    & 11.182619 \\\\\n",
       "\t 509        & 12         & M          &  83        & 102        & 103        & 11         &  7         & 0.16193367 & 11.535266  & ⋯          & 1          & 1          & 1          & 0          & 0          & 0          & 1          & 1          & Trait2a    & 11.028466 \\\\\n",
       "\t 510        & 24         & F          & 122        & 103        & 103        &  7         &  7         & 0.09028657 & 11.680399  & ⋯          & 0          & 0          & 0          & 0          & 0          & 0          & 1          & 1          & Trait2a    & 11.173599 \\\\\n",
       "\t 511        & 24         & F          & 122        & 103        & 103        &  7         &  7         & 0.08787820 & 11.301509  & ⋯          & 0          & 0          & 0          & 0          & 0          & 0          & 1          & 1          & Trait2a    & 10.794709 \\\\\n",
       "\t 512        & 12         & M          &  83        & 102        & 103        & 11         &  7         & 0.09193367 &  8.949709  & ⋯          & 0          & 0          & 0          & 1          & 1          & 1          & 1          & 1          & Trait2a    &  8.949709 \\\\\n",
       "\t 513        & 24         & F          & 122        & 103        & 103        &  7         &  7         & 0.09787820 & 11.933739  & ⋯          & 1          & 0          & 0          & 0          & 0          & 0          & 1          & 1          & Trait2a    & 11.426939 \\\\\n",
       "\t 514        & 12         & F          &  83        & 102        & 102        & 11         & 11         & 0.09830618 & 10.444278  & ⋯          & 1          & 1          & 1          & 1          & 1          & 1          & 1          & 1          & Trait2a    & 10.444278 \\\\\n",
       "\t 515        & 24         & F          & 122        & 103        & 102        &  7         & 11         & 0.10210200 & 10.954277  & ⋯          & 1          & 1          & 1          & 0          & 0          & 1          & 1          & 0          & Trait2a    & 11.461077 \\\\\n",
       "\t 516        & 24         & F          & 122        & 103        & 102        &  7         & 11         & 0.06878986 &  9.877611  & ⋯          & 1          & 1          & 1          & 1          & 1          & 1          & 1          & 0          & Trait2a    & 10.384411 \\\\\n",
       "\t 517        & 24         & M          & 122        & 103        & 102        &  7         & 11         & 0.10495578 & 10.288029  & ⋯          & 1          & 1          & 1          & 0          & 0          & 0          & 0          & 0          & Trait2a    & 10.794829 \\\\\n",
       "\t 518        & 12         & F          &  83        & 102        & 102        & 11         & 11         & 0.08878986 & 10.440944  & ⋯          & 0          & 0          & 0          & 1          & 1          & 1          & 1          & 1          & Trait2a    &  9.934144 \\\\\n",
       "\t 519        & 24         & M          & 122        & 103        & 102        &  7         & 11         & 0.13374910 & 11.310252  & ⋯          & 1          & 1          & 1          & 1          & 1          & 1          & 0          & 0          & Trait2a    & 11.310252 \\\\\n",
       "\t 520        & 12         & M          &  83        & 102        & 102        & 11         & 11         & 0.09718341 &  8.835807  & ⋯          & 1          & 1          & 1          & 1          & 1          & 1          & 0          & 1          & Trait2a    &  8.835807 \\\\\n",
       "\t 521        & 12         & F          &  83        & 102        & 102        & 11         & 11         & 0.09878986 & 10.115389  & ⋯          & 1          & 1          & 1          & 1          & 1          & 1          & 1          & 1          & Trait2a    & 10.115389 \\\\\n",
       "\t ⋮ & ⋮ & ⋮ & ⋮ & ⋮ & ⋮ & ⋮ & ⋮ & ⋮ & ⋮ & ⋱ & ⋮ & ⋮ & ⋮ & ⋮ & ⋮ & ⋮ & ⋮ & ⋮ & ⋮ & ⋮\\\\\n",
       "\t 3138       & 192        & M          & 1443       & 1173       & 1171       &  8         & 11         & 0.06987450 & 14.290840  & ⋯          & 1          & 1          & 1          & 0          & 0          & 0          & 0          & 0          & Trait3a    & 38.01906  \\\\\n",
       "\t 3139       & 192        & F          & 1443       & 1173       & 1171       &  8         & 11         & 0.10580035 & 14.343533  & ⋯          & 0          & 0          & 1          & 0          & 0          & 0          & 1          & 1          & Trait3a    & 31.11215  \\\\\n",
       "\t 3140       & 192        & F          & 1443       & 1173       & 1171       &  8         & 11         & 0.12580035 & 14.382533  & ⋯          & 0          & 0          & 1          & 1          & 1          & 1          & 0          & 0          & Trait3a    & 33.01197  \\\\\n",
       "\t 3141       & 192        & F          & 1443       & 1173       & 1173       &  8         &  8         & 0.09592564 & 13.282172  & ⋯          & 0          & 0          & 1          & 1          & 1          & 1          & 0          & 0          & Trait3a    & 19.37653  \\\\\n",
       "\t 3142       & 192        & M          & 1443       & 1173       & 1173       &  8         &  8         & 0.07719091 & 15.008172  & ⋯          & 1          & 1          & 0          & 0          & 0          & 1          & 1          & 1          & Trait3a    & 37.08435  \\\\\n",
       "\t 3143       & 192        & F          & 1443       & 1173       & 1173       &  8         &  8         & 0.11592564 & 13.896172  & ⋯          & 1          & 1          & 0          & 0          & 0          & 1          & 1          & 1          & Trait3a    & 23.68835  \\\\\n",
       "\t 3144       & 192        & M          & 1443       & 1173       & 1173       &  8         &  8         & 0.08592564 & 14.587172  & ⋯          & 1          & 1          & 0          & 0          & 0          & 0          & 0          & 0          & Trait3a    & 31.95735  \\\\\n",
       "\t 3145       & 202        & M          & 1441       & 1171       & 1173       & 11         &  8         & 0.13592564 & 14.418172  & ⋯          & 1          & 1          & 1          & 1          & 0          & 0          & 1          & 1          & Trait3a    & 36.78817  \\\\\n",
       "\t 3146       & 202        & F          & 1441       & 1171       & 1173       & 11         &  8         & 0.09875400 & 15.251172  & ⋯          & 1          & 1          & 1          & 1          & 0          & 0          & 1          & 1          & Trait3a    & 34.83217  \\\\\n",
       "\t 3147       & 202        & M          & 1441       & 1171       & 1173       & 11         &  8         & 0.10719091 & 15.030172  & ⋯          & 1          & 1          & 1          & 1          & 0          & 0          & 1          & 1          & Trait3a    & 38.14017  \\\\\n",
       "\t 3148       & 202        & F          & 1441       & 1171       & 1173       & 11         &  8         & 0.15592564 & 15.106172  & ⋯          & 0          & 0          & 0          & 0          & 0          & 0          & 0          & 0          & Trait3a    & 28.53117  \\\\\n",
       "\t 3265       & 187        & M          & 1169       & 1437       & 1437       &  4         &  4         & 0.11463368 & 10.813225  & ⋯          & 0          & 0          & 0          & 0          & 1          & 1          & 1          & 1          & Trait3a    & 24.53626  \\\\\n",
       "\t 3266       & 187        & F          & 1169       & 1437       & 1437       &  4         &  4         & 0.12919077 & 11.443919  & ⋯          & 0          & 0          & 0          & 0          & 0          & 0          & 0          & 0          & Trait3a    & 25.50135  \\\\\n",
       "\t 3267       & 187        & F          & 1169       & 1437       & 1437       &  4         &  4         & 0.18972400 & 10.962919  & ⋯          & 0          & 0          & 0          & 0          & 0          & 0          & 0          & 1          & Trait3a    & 21.20335  \\\\\n",
       "\t 3268       & 187        & F          & 1169       & 1437       & 1437       &  4         &  4         & 0.10919077 &  9.872919  & ⋯          & 0          & 0          & 0          & 0          & 0          & 1          & 0          & 0          & Trait3a    & 18.87635  \\\\\n",
       "\t 3305       & 190        & M          & 1297       & 1438       & 1438       &  9         &  8         & 0.12773317 & 10.972172  & ⋯          & 1          & 1          & 1          & 0          & 0          & 0          & 0          & 0          & Trait3a    & 33.71235  \\\\\n",
       "\t 3306       & 190        & F          & 1297       & 1438       & 1438       &  9         &  8         & 0.11229025 & 10.228865  & ⋯          & 1          & 1          & 1          & 1          & 1          & 1          & 1          & 1          & Trait3a    & 32.84908  \\\\\n",
       "\t 3307       & 190        & M          & 1297       & 1438       & 1438       &  9         &  8         & 0.08773317 &  9.642172  & ⋯          & 1          & 1          & 1          & 1          & 1          & 1          & 1          & 1          & Trait3a    & 23.83635  \\\\\n",
       "\t 3308       & 190        & F          & 1297       & 1438       & 1438       &  9         &  8         & 0.10229025 &  9.859865  & ⋯          & 0          & 0          & 0          & 0          & 0          & 0          & 0          & 0          & Trait3a    & 25.37444  \\\\\n",
       "\t 3309       & 190        & F          & 1297       & 1438       & 1438       &  9         &  8         & 0.12229025 & 10.483865  & ⋯          & 1          & 1          & 0          & 0          & 0          & 0          & 1          & 1          & Trait3a    & 31.15626  \\\\\n",
       "\t 3311       & 190        & M          & 1297       & 1438       & 1438       &  9         &  8         & 0.11773317 &  9.742172  & ⋯          & 0          & 0          & 0          & 1          & 1          & 1          & 1          & 1          & Trait3a    & 26.88117  \\\\\n",
       "\t 3312       & 190        & F          & 1297       & 1438       & 1438       &  9         &  8         & 0.10229025 &  8.851865  & ⋯          & 0          & 0          & 0          & 0          & 0          & 0          & 1          & 1          & Trait3a    & 26.66644  \\\\\n",
       "\t 3842       & 188        & M          & 1172       & 1299       & 1299       &  8         &  8         & 0.11899844 & 10.197172  & ⋯          & 0          & 0          & 0          & 0          & 0          & 0          & 0          & 1          & Trait3a    & 23.14235  \\\\\n",
       "\t 3843       & 188        & F          & 1172       & 1299       & 1299       &  8         &  8         & 0.08355552 & 10.212865  & ⋯          & 1          & 1          & 1          & 1          & 1          & 1          & 1          & 1          & Trait3a    & 25.35926  \\\\\n",
       "\t 3844       & 188        & F          & 1172       & 1299       & 1299       &  8         &  8         & 0.05355552 &  9.371865  & ⋯          & 1          & 1          & 1          & 1          & 1          & 1          & 1          & 1          & Trait3a    & 22.02126  \\\\\n",
       "\t 3845       & 188        & F          & 1172       & 1299       & 1299       &  8         &  8         & 0.14355552 & 10.696865  & ⋯          & 1          & 1          & 0          & 0          & 0          & 0          & 0          & 0          & Trait3a    & 23.11626  \\\\\n",
       "\t 3846       & 188        & M          & 1172       & 1299       & 1299       &  8         &  8         & 0.08899844 &  9.180172  & ⋯          & 1          & 1          & 1          & 1          & 1          & 1          & 1          & 1          & Trait3a    & 23.55035  \\\\\n",
       "\t 3847       & 188        & M          & 1172       & 1299       & 1299       &  8         &  8         & 0.09899844 & 10.396172  & ⋯          & 1          & 1          & 1          & 1          & 1          & 1          & 1          & 1          & Trait3a    & 22.93835  \\\\\n",
       "\t 3848       & 188        & F          & 1172       & 1299       & 1299       &  8         &  8         & 0.12355552 & 10.214865  & ⋯          & 1          & 1          & 1          & 1          & 1          & 1          & 1          & 1          & Trait3a    & 24.95126  \\\\\n",
       "\t 3849       & 188        & M          & 1172       & 1299       & 1299       &  8         &  8         & 0.08899844 & 10.963172  & ⋯          & 1          & 1          & 1          & 1          & 1          & 1          & 0          & 1          & Trait3a    & 23.26835  \\\\\n",
       "\\end{tabular}\n"
      ],
      "text/plain": [
       "     ID   FAMILY Sex Sire Dam  NURSE LSB LSW Trait1     Trait2    ⋯ G24_D G25_D\n",
       "1    492  11     F    82  173  173    8   8  0.08732662 12.511166 ⋯ 1     0    \n",
       "2    493  11     F    82  173  173    8   8  0.09732662 10.522276 ⋯ 0     0    \n",
       "3    494  14     F    85  114  173    7   8  0.09371156 13.818946 ⋯ 0     0    \n",
       "4    495  14     M    85  114  173    7   8  0.15897373 12.384913 ⋯ 1     1    \n",
       "5    496  11     F    82  173  173    8   8  0.02587000 13.101166 ⋯ 0     0    \n",
       "6    497  14     M    85  114  173    7   8  0.12987749 13.744913 ⋯ 0     0    \n",
       "7    498  14     M    85  114  173    7   8  0.10240803 13.376023 ⋯ 0     0    \n",
       "8    499  11     F    82  173  173    8   8  0.09491825 13.953386 ⋯ 0     0    \n",
       "9    500  11     F    82  173  114    8   7  0.09938281 10.617069 ⋯ 0     0    \n",
       "10   501  11     M    82  173  114    8   7  0.09229518 10.383046 ⋯ 1     1    \n",
       "11   502  11     M    82  173  114    8   7  0.09314036 12.258596 ⋯ 0     0    \n",
       "12   503  14     F    85  114  114    7   7  0.12787820  9.839289 ⋯ 0     0    \n",
       "13   504  14     M    85  114  114    7   7  0.13314036 10.613046 ⋯ 1     1    \n",
       "14   505  14     F    85  114  114    7   7  0.10787820  9.033736 ⋯ 1     1    \n",
       "15   506  11     F    82  173  114    8   7  0.09787820 10.922629 ⋯ 0     0    \n",
       "16   507  24     F   122  103  103    7   7  0.09787820 11.814849 ⋯ 1     1    \n",
       "17   508  12     F    83  102  103   11   7  0.12787820 11.182619 ⋯ 0     0    \n",
       "18   509  12     M    83  102  103   11   7  0.16193367 11.535266 ⋯ 1     1    \n",
       "19   510  24     F   122  103  103    7   7  0.09028657 11.680399 ⋯ 0     0    \n",
       "20   511  24     F   122  103  103    7   7  0.08787820 11.301509 ⋯ 0     0    \n",
       "21   512  12     M    83  102  103   11   7  0.09193367  8.949709 ⋯ 0     0    \n",
       "22   513  24     F   122  103  103    7   7  0.09787820 11.933739 ⋯ 1     0    \n",
       "23   514  12     F    83  102  102   11  11  0.09830618 10.444278 ⋯ 1     1    \n",
       "24   515  24     F   122  103  102    7  11  0.10210200 10.954277 ⋯ 1     1    \n",
       "25   516  24     F   122  103  102    7  11  0.06878986  9.877611 ⋯ 1     1    \n",
       "26   517  24     M   122  103  102    7  11  0.10495578 10.288029 ⋯ 1     1    \n",
       "27   518  12     F    83  102  102   11  11  0.08878986 10.440944 ⋯ 0     0    \n",
       "28   519  24     M   122  103  102    7  11  0.13374910 11.310252 ⋯ 1     1    \n",
       "29   520  12     M    83  102  102   11  11  0.09718341  8.835807 ⋯ 1     1    \n",
       "30   521  12     F    83  102  102   11  11  0.09878986 10.115389 ⋯ 1     1    \n",
       "⋮    ⋮    ⋮      ⋮   ⋮    ⋮    ⋮     ⋮   ⋮   ⋮          ⋮         ⋱ ⋮     ⋮    \n",
       "3143 3138 192    M   1443 1173 1171   8  11  0.06987450 14.290840 ⋯ 1     1    \n",
       "3144 3139 192    F   1443 1173 1171   8  11  0.10580035 14.343533 ⋯ 0     0    \n",
       "3145 3140 192    F   1443 1173 1171   8  11  0.12580035 14.382533 ⋯ 0     0    \n",
       "3146 3141 192    F   1443 1173 1173   8   8  0.09592564 13.282172 ⋯ 0     0    \n",
       "3147 3142 192    M   1443 1173 1173   8   8  0.07719091 15.008172 ⋯ 1     1    \n",
       "3148 3143 192    F   1443 1173 1173   8   8  0.11592564 13.896172 ⋯ 1     1    \n",
       "3149 3144 192    M   1443 1173 1173   8   8  0.08592564 14.587172 ⋯ 1     1    \n",
       "3150 3145 202    M   1441 1171 1173  11   8  0.13592564 14.418172 ⋯ 1     1    \n",
       "3151 3146 202    F   1441 1171 1173  11   8  0.09875400 15.251172 ⋯ 1     1    \n",
       "3152 3147 202    M   1441 1171 1173  11   8  0.10719091 15.030172 ⋯ 1     1    \n",
       "3153 3148 202    F   1441 1171 1173  11   8  0.15592564 15.106172 ⋯ 0     0    \n",
       "3154 3265 187    M   1169 1437 1437   4   4  0.11463368 10.813225 ⋯ 0     0    \n",
       "3155 3266 187    F   1169 1437 1437   4   4  0.12919077 11.443919 ⋯ 0     0    \n",
       "3156 3267 187    F   1169 1437 1437   4   4  0.18972400 10.962919 ⋯ 0     0    \n",
       "3157 3268 187    F   1169 1437 1437   4   4  0.10919077  9.872919 ⋯ 0     0    \n",
       "3158 3305 190    M   1297 1438 1438   9   8  0.12773317 10.972172 ⋯ 1     1    \n",
       "3159 3306 190    F   1297 1438 1438   9   8  0.11229025 10.228865 ⋯ 1     1    \n",
       "3160 3307 190    M   1297 1438 1438   9   8  0.08773317  9.642172 ⋯ 1     1    \n",
       "3161 3308 190    F   1297 1438 1438   9   8  0.10229025  9.859865 ⋯ 0     0    \n",
       "3162 3309 190    F   1297 1438 1438   9   8  0.12229025 10.483865 ⋯ 1     1    \n",
       "3163 3311 190    M   1297 1438 1438   9   8  0.11773317  9.742172 ⋯ 0     0    \n",
       "3164 3312 190    F   1297 1438 1438   9   8  0.10229025  8.851865 ⋯ 0     0    \n",
       "3165 3842 188    M   1172 1299 1299   8   8  0.11899844 10.197172 ⋯ 0     0    \n",
       "3166 3843 188    F   1172 1299 1299   8   8  0.08355552 10.212865 ⋯ 1     1    \n",
       "3167 3844 188    F   1172 1299 1299   8   8  0.05355552  9.371865 ⋯ 1     1    \n",
       "3168 3845 188    F   1172 1299 1299   8   8  0.14355552 10.696865 ⋯ 1     1    \n",
       "3169 3846 188    M   1172 1299 1299   8   8  0.08899844  9.180172 ⋯ 1     1    \n",
       "3170 3847 188    M   1172 1299 1299   8   8  0.09899844 10.396172 ⋯ 1     1    \n",
       "3171 3848 188    F   1172 1299 1299   8   8  0.12355552 10.214865 ⋯ 1     1    \n",
       "3172 3849 188    M   1172 1299 1299   8   8  0.08899844 10.963172 ⋯ 1     1    \n",
       "     G26_D G27_D G28_D G29_D G30_D G31_D variable value    \n",
       "1    0     0     0     0     0     0     Trait2a  12.004366\n",
       "2    0     0     0     0     0     0     Trait2a  10.522276\n",
       "3    0     0     0     0     0     0     Trait2a  13.312146\n",
       "4    1     1     1     1     0     0     Trait2a  12.891713\n",
       "5    0     0     0     0     0     0     Trait2a  13.607966\n",
       "6    0     0     0     0     0     0     Trait2a  13.238113\n",
       "7    0     1     1     1     1     1     Trait2a  12.869223\n",
       "8    0     0     0     0     1     1     Trait2a  13.446586\n",
       "9    0     0     0     0     1     1     Trait2a  10.110269\n",
       "10   1     1     1     1     1     1     Trait2a  10.383046\n",
       "11   0     1     1     1     1     1     Trait2a  11.751796\n",
       "12   0     1     1     1     1     1     Trait2a   9.332489\n",
       "13   1     1     1     1     1     1     Trait2a  11.119846\n",
       "14   1     1     1     1     0     0     Trait2a   9.033736\n",
       "15   0     0     0     0     1     1     Trait2a  10.415829\n",
       "16   1     0     0     0     0     0     Trait2a  11.814849\n",
       "17   0     1     1     1     1     1     Trait2a  11.182619\n",
       "18   1     0     0     0     1     1     Trait2a  11.028466\n",
       "19   0     0     0     0     1     1     Trait2a  11.173599\n",
       "20   0     0     0     0     1     1     Trait2a  10.794709\n",
       "21   0     1     1     1     1     1     Trait2a   8.949709\n",
       "22   0     0     0     0     1     1     Trait2a  11.426939\n",
       "23   1     1     1     1     1     1     Trait2a  10.444278\n",
       "24   1     0     0     1     1     0     Trait2a  11.461077\n",
       "25   1     1     1     1     1     0     Trait2a  10.384411\n",
       "26   1     0     0     0     0     0     Trait2a  10.794829\n",
       "27   0     1     1     1     1     1     Trait2a   9.934144\n",
       "28   1     1     1     1     0     0     Trait2a  11.310252\n",
       "29   1     1     1     1     0     1     Trait2a   8.835807\n",
       "30   1     1     1     1     1     1     Trait2a  10.115389\n",
       "⋮    ⋮     ⋮     ⋮     ⋮     ⋮     ⋮     ⋮        ⋮        \n",
       "3143 1     0     0     0     0     0     Trait3a  38.01906 \n",
       "3144 1     0     0     0     1     1     Trait3a  31.11215 \n",
       "3145 1     1     1     1     0     0     Trait3a  33.01197 \n",
       "3146 1     1     1     1     0     0     Trait3a  19.37653 \n",
       "3147 0     0     0     1     1     1     Trait3a  37.08435 \n",
       "3148 0     0     0     1     1     1     Trait3a  23.68835 \n",
       "3149 0     0     0     0     0     0     Trait3a  31.95735 \n",
       "3150 1     1     0     0     1     1     Trait3a  36.78817 \n",
       "3151 1     1     0     0     1     1     Trait3a  34.83217 \n",
       "3152 1     1     0     0     1     1     Trait3a  38.14017 \n",
       "3153 0     0     0     0     0     0     Trait3a  28.53117 \n",
       "3154 0     0     1     1     1     1     Trait3a  24.53626 \n",
       "3155 0     0     0     0     0     0     Trait3a  25.50135 \n",
       "3156 0     0     0     0     0     1     Trait3a  21.20335 \n",
       "3157 0     0     0     1     0     0     Trait3a  18.87635 \n",
       "3158 1     0     0     0     0     0     Trait3a  33.71235 \n",
       "3159 1     1     1     1     1     1     Trait3a  32.84908 \n",
       "3160 1     1     1     1     1     1     Trait3a  23.83635 \n",
       "3161 0     0     0     0     0     0     Trait3a  25.37444 \n",
       "3162 0     0     0     0     1     1     Trait3a  31.15626 \n",
       "3163 0     1     1     1     1     1     Trait3a  26.88117 \n",
       "3164 0     0     0     0     1     1     Trait3a  26.66644 \n",
       "3165 0     0     0     0     0     1     Trait3a  23.14235 \n",
       "3166 1     1     1     1     1     1     Trait3a  25.35926 \n",
       "3167 1     1     1     1     1     1     Trait3a  22.02126 \n",
       "3168 0     0     0     0     0     0     Trait3a  23.11626 \n",
       "3169 1     1     1     1     1     1     Trait3a  23.55035 \n",
       "3170 1     1     1     1     1     1     Trait3a  22.93835 \n",
       "3171 1     1     1     1     1     1     Trait3a  24.95126 \n",
       "3172 1     1     1     1     0     1     Trait3a  23.26835 "
      ]
     },
     "metadata": {},
     "output_type": "display_data"
    }
   ],
   "source": [
    "narrow_f3_data = gather(f3_data, variable, value, Trait2a, Trait3a)\n",
    "narrow_f3_data"
   ]
  },
  {
   "cell_type": "markdown",
   "metadata": {},
   "source": [
    "Now we set up a mixed model with a (variable|FAMILY) mixed effect, which will fit a genetic covariance matrix between the 2 traits."
   ]
  },
  {
   "cell_type": "code",
   "execution_count": 14,
   "metadata": {
    "collapsed": false
   },
   "outputs": [
    {
     "data": {
      "text/plain": [
       "Linear mixed model fit by REML t-tests use Satterthwaite approximations to\n",
       "  degrees of freedom [lmerMod]\n",
       "Formula: \n",
       "value ~ (variable | FAMILY) + variable + variable:Sex + variable:LSB +  \n",
       "    variable:LSW\n",
       "   Data: narrow_f3_data\n",
       "\n",
       "REML criterion at convergence: 14603\n",
       "\n",
       "Scaled residuals: \n",
       "    Min      1Q  Median      3Q     Max \n",
       "-5.0311 -0.5061  0.0140  0.5120  3.8385 \n",
       "\n",
       "Random effects:\n",
       " Groups   Name            Variance Std.Dev. Corr\n",
       " FAMILY   (Intercept)     0.8789   0.9375       \n",
       "          variableTrait3a 3.1997   1.7888   0.56\n",
       " Residual                 4.9383   2.2222       \n",
       "Number of obs: 3164, groups:  FAMILY, 198\n",
       "\n",
       "Fixed effects:\n",
       "                       Estimate Std. Error         df t value Pr(>|t|)    \n",
       "(Intercept)            11.28022    0.36220  315.50000  31.143  < 2e-16 ***\n",
       "variableTrait3a        16.47386    0.59643  289.00000  27.621  < 2e-16 ***\n",
       "variableTrait2a:SexM   -0.02885    0.11472 2948.80000  -0.251  0.80145    \n",
       "variableTrait3a:SexM    0.35535    0.11867 2874.60000   2.995  0.00277 ** \n",
       "variableTrait2a:LSB    -0.08234    0.04546  366.80000  -1.811  0.07093 .  \n",
       "variableTrait3a:LSB     0.01709    0.08092  282.60000   0.211  0.83292    \n",
       "variableTrait2a:LSW     0.06996    0.04008 1215.20000   1.745  0.08117 .  \n",
       "variableTrait3a:LSW     0.03911    0.04823 2858.30000   0.811  0.41749    \n",
       "---\n",
       "Signif. codes:  0 ‘***’ 0.001 ‘**’ 0.01 ‘*’ 0.05 ‘.’ 0.1 ‘ ’ 1\n",
       "\n",
       "Correlation of Fixed Effects:\n",
       "            (Intr) vrblT3 vT2:SM vT3:SM vT2:LSB vT3:LSB vT2:LSW\n",
       "variablTrt3 -0.064                                             \n",
       "vrblTrt2:SM -0.187  0.111                                      \n",
       "vrblTrt3:SM -0.004 -0.114  0.024                               \n",
       "vrblTr2:LSB -0.563 -0.107  0.012 -0.001                        \n",
       "vrblTr3:LSB -0.415 -0.644 -0.001  0.004  0.436                 \n",
       "vrblTr2:LSW -0.306  0.161  0.008  0.001 -0.578  -0.055         \n",
       "vrblTr3:LSW -0.034 -0.191  0.001  0.010 -0.081  -0.397   0.133 "
      ]
     },
     "metadata": {},
     "output_type": "display_data"
    }
   ],
   "source": [
    "null_2trait_fit = lmer(value ~ (variable|FAMILY) + variable + variable:Sex + variable:LSB + variable:LSW, data = narrow_f3_data)\n",
    "summary(null_2trait_fit)"
   ]
  },
  {
   "cell_type": "markdown",
   "metadata": {},
   "source": [
    "Now we add the marker term to this model"
   ]
  },
  {
   "cell_type": "code",
   "execution_count": 15,
   "metadata": {
    "collapsed": false
   },
   "outputs": [
    {
     "data": {
      "text/plain": [
       "Linear mixed model fit by REML ['lmerMod']\n",
       "Formula: \n",
       "value ~ (variable | FAMILY) + variable + variable:Sex + variable:LSB +  \n",
       "    variable:LSW + variable:G17 + variable:G17_D\n",
       "   Data: narrow_f3_data\n",
       "\n",
       "REML criterion at convergence: 14468.7\n",
       "\n",
       "Scaled residuals: \n",
       "    Min      1Q  Median      3Q     Max \n",
       "-4.8006 -0.4938  0.0186  0.5035  4.2250 \n",
       "\n",
       "Random effects:\n",
       " Groups   Name            Variance Std.Dev. Corr\n",
       " FAMILY   (Intercept)     0.8748   0.9353       \n",
       "          variableTrait3a 3.1755   1.7820   0.51\n",
       " Residual                 4.7047   2.1690       \n",
       "Number of obs: 3164, groups:  FAMILY, 198\n",
       "\n",
       "Fixed effects:\n",
       "                      Estimate Std. Error t value\n",
       "(Intercept)           11.24523    0.36124  31.129\n",
       "variableTrait3a       16.49093    0.59445  27.741\n",
       "variableTrait2a:SexM  -0.05688    0.11232  -0.506\n",
       "variableTrait3a:SexM   0.30881    0.11602   2.662\n",
       "variableTrait2a:LSB   -0.07765    0.04490  -1.729\n",
       "variableTrait3a:LSB    0.02412    0.07942   0.304\n",
       "variableTrait2a:LSW    0.06532    0.03949   1.654\n",
       "variableTrait3a:LSW    0.03545    0.04714   0.752\n",
       "variableTrait2a:G17    0.50112    0.08197   6.113\n",
       "variableTrait3a:G17    0.97041    0.08932  10.865\n",
       "variableTrait2a:G17_D  0.10428    0.11406   0.914\n",
       "variableTrait3a:G17_D  0.03604    0.12031   0.300\n",
       "\n",
       "Correlation of Fixed Effects:\n",
       "            (Intr) vrblT3 vT2:SM vT3:SM vT2:LSB vT3:LSB vT2:LSW vT3:LSW\n",
       "variablTrt3 -0.088                                                     \n",
       "vrblTrt2:SM -0.178  0.106                                              \n",
       "vrblTrt3:SM -0.003 -0.108  0.023                                       \n",
       "vrblTr2:LSB -0.560 -0.093  0.010 -0.001                                \n",
       "vrblTr3:LSB -0.403 -0.640 -0.001  0.004  0.425                         \n",
       "vrblTr2:LSW -0.299  0.159  0.009  0.001 -0.577  -0.052                 \n",
       "vrblTr3:LSW -0.032 -0.187  0.001  0.010 -0.076  -0.395   0.126         \n",
       "vrblTr2:G17  0.017 -0.013 -0.026 -0.005  0.025  -0.002  -0.039   0.008 \n",
       "vrblTr3:G17 -0.004  0.004 -0.004 -0.035 -0.003   0.009   0.008  -0.010 \n",
       "vrbT2:G17_D -0.143  0.081 -0.042  0.000  0.007   0.001  -0.013   0.001 \n",
       "vrbT3:G17_D -0.009 -0.093  0.000 -0.038  0.002   0.007   0.001  -0.009 \n",
       "            vrT2:G17 vrT3:G17 vT2:G17_\n",
       "variablTrt3                           \n",
       "vrblTrt2:SM                           \n",
       "vrblTrt3:SM                           \n",
       "vrblTr2:LSB                           \n",
       "vrblTr3:LSB                           \n",
       "vrblTr2:LSW                           \n",
       "vrblTr3:LSW                           \n",
       "vrblTr2:G17                           \n",
       "vrblTr3:G17  0.061                    \n",
       "vrbT2:G17_D -0.007    0.001           \n",
       "vrbT3:G17_D  0.001   -0.004    0.038  "
      ]
     },
     "metadata": {},
     "output_type": "display_data"
    }
   ],
   "source": [
    "marker17_2trait_fit = update(null_2trait_fit, . ~ . + variable:G17 + variable:G17_D)\n",
    "summary(marker17_2trait_fit)"
   ]
  },
  {
   "cell_type": "markdown",
   "metadata": {},
   "source": [
    "Now we can compare the two models (with and without the marker) using a  likelihood ratio test. \n",
    "As expected the marker term is highly significant."
   ]
  },
  {
   "cell_type": "code",
   "execution_count": 16,
   "metadata": {
    "collapsed": false,
    "scrolled": true
   },
   "outputs": [
    {
     "name": "stderr",
     "output_type": "stream",
     "text": [
      "refitting model(s) with ML (instead of REML)\n"
     ]
    },
    {
     "data": {
      "text/html": [
       "<table>\n",
       "<thead><tr><th></th><th scope=col>Df</th><th scope=col>AIC</th><th scope=col>BIC</th><th scope=col>logLik</th><th scope=col>deviance</th><th scope=col>Chisq</th><th scope=col>Chi Df</th><th scope=col>Pr(&gt;Chisq)</th></tr></thead>\n",
       "<tbody>\n",
       "\t<tr><th scope=row>object</th><td>12          </td><td>14599.81    </td><td>14672.53    </td><td>-7287.906   </td><td>14575.81    </td><td>      NA    </td><td>NA          </td><td>          NA</td></tr>\n",
       "\t<tr><th scope=row>..1</th><td>16          </td><td>14462.14    </td><td>14559.10    </td><td>-7215.072   </td><td>14430.14    </td><td>145.6686    </td><td> 4          </td><td>1.724715e-30</td></tr>\n",
       "</tbody>\n",
       "</table>\n"
      ],
      "text/latex": [
       "\\begin{tabular}{r|llllllll}\n",
       "  & Df & AIC & BIC & logLik & deviance & Chisq & Chi Df & Pr(>Chisq)\\\\\n",
       "\\hline\n",
       "\tobject & 12           & 14599.81     & 14672.53     & -7287.906    & 14575.81     &       NA     & NA           &           NA\\\\\n",
       "\t..1 & 16           & 14462.14     & 14559.10     & -7215.072    & 14430.14     & 145.6686     &  4           & 1.724715e-30\\\\\n",
       "\\end{tabular}\n"
      ],
      "text/plain": [
       "       Df AIC      BIC      logLik    deviance Chisq    Chi Df Pr(>Chisq)  \n",
       "object 12 14599.81 14672.53 -7287.906 14575.81       NA NA               NA\n",
       "..1    16 14462.14 14559.10 -7215.072 14430.14 145.6686  4     1.724715e-30"
      ]
     },
     "metadata": {},
     "output_type": "display_data"
    }
   ],
   "source": [
    "anova(null_2trait_fit, marker17_2trait_fit)"
   ]
  },
  {
   "cell_type": "markdown",
   "metadata": {},
   "source": [
    "We can also extract the vectors of additive and dominance effects."
   ]
  },
  {
   "cell_type": "code",
   "execution_count": 17,
   "metadata": {
    "collapsed": false
   },
   "outputs": [
    {
     "data": {
      "text/html": [
       "<dl class=dl-horizontal>\n",
       "\t<dt>variableTrait2a:G17</dt>\n",
       "\t\t<dd>0.501115637371015</dd>\n",
       "\t<dt>variableTrait3a:G17</dt>\n",
       "\t\t<dd>0.970412234260567</dd>\n",
       "</dl>\n"
      ],
      "text/latex": [
       "\\begin{description*}\n",
       "\\item[variableTrait2a:G17] 0.501115637371015\n",
       "\\item[variableTrait3a:G17] 0.970412234260567\n",
       "\\end{description*}\n"
      ],
      "text/markdown": [
       "variableTrait2a:G17\n",
       ":   0.501115637371015variableTrait3a:G17\n",
       ":   0.970412234260567\n",
       "\n"
      ],
      "text/plain": [
       "variableTrait2a:G17 variableTrait3a:G17 \n",
       "          0.5011156           0.9704122 "
      ]
     },
     "metadata": {},
     "output_type": "display_data"
    },
    {
     "data": {
      "text/html": [
       "<dl class=dl-horizontal>\n",
       "\t<dt>variableTrait2a:G17_D</dt>\n",
       "\t\t<dd>0.104277696859758</dd>\n",
       "\t<dt>variableTrait3a:G17_D</dt>\n",
       "\t\t<dd>0.0360377496843756</dd>\n",
       "</dl>\n"
      ],
      "text/latex": [
       "\\begin{description*}\n",
       "\\item[variableTrait2a:G17\\textbackslash{}\\_D] 0.104277696859758\n",
       "\\item[variableTrait3a:G17\\textbackslash{}\\_D] 0.0360377496843756\n",
       "\\end{description*}\n"
      ],
      "text/markdown": [
       "variableTrait2a:G17_D\n",
       ":   0.104277696859758variableTrait3a:G17_D\n",
       ":   0.0360377496843756\n",
       "\n"
      ],
      "text/plain": [
       "variableTrait2a:G17_D variableTrait3a:G17_D \n",
       "           0.10427770            0.03603775 "
      ]
     },
     "metadata": {},
     "output_type": "display_data"
    }
   ],
   "source": [
    "additive = summary(marker17_2trait_fit)$coefficients[9:10, 1]\n",
    "dominance = summary(marker17_2trait_fit)$coefficients[11:12, 1]\n",
    "additive\n",
    "dominance"
   ]
  }
 ],
 "metadata": {
  "kernelspec": {
   "display_name": "R",
   "language": "R",
   "name": "ir"
  },
  "language_info": {
   "codemirror_mode": "r",
   "file_extension": ".r",
   "mimetype": "text/x-r-source",
   "name": "R",
   "pygments_lexer": "r",
   "version": "3.3.1"
  }
 },
 "nbformat": 4,
 "nbformat_minor": 0
}
